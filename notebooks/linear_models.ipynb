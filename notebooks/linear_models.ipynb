{
 "cells": [
  {
   "cell_type": "markdown",
   "id": "8ad46a32",
   "metadata": {},
   "source": [
    "# Analysis of linear models between ECoG, SYLBER embeddings"
   ]
  },
  {
   "cell_type": "code",
   "execution_count": 5,
   "id": "1b073672",
   "metadata": {},
   "outputs": [],
   "source": [
    "import os\n",
    "import re\n",
    "import numpy as np\n",
    "import scipy as sp\n",
    "import sys\n",
    "sys.path.append('../')\n",
    "from utils import data_utils, stat_utils\n",
    "import matplotlib.pyplot as plt"
   ]
  },
  {
   "cell_type": "code",
   "execution_count": 2,
   "id": "b5acbd1f",
   "metadata": {},
   "outputs": [
    {
     "data": {
      "text/plain": [
       "['../TRF_outputs/sub01/sub01_taskdecode_modegamma_r0.5_min-0.5_max0.1_f50_a2.15e+06.pickle_preds.pickle.npy']"
      ]
     },
     "execution_count": 2,
     "metadata": {},
     "output_type": "execute_result"
    }
   ],
   "source": [
    "def search_trf_files(\n",
    "    sub_num,\n",
    "    task=None,\n",
    "    mode=None,\n",
    "    base_dir='../TRF_outputs/',\n",
    "    file_ext=\".npy\"):\n",
    "    sub_str = f\"sub{int(sub_num):02d}\"\n",
    "    sub_dir = os.path.join(base_dir, sub_str)\n",
    "    if not os.path.isdir(sub_dir):\n",
    "        raise FileNotFoundError(f\"Subject directory {sub_dir} not found.\")\n",
    "\n",
    "    pattern = rf\"{sub_str}_task(?P<task>\\w+)_mode(?P<mode>\\w+)_.*\\.pickle_preds\\.pickle{re.escape(file_ext)}$\"\n",
    "\n",
    "    matches = []\n",
    "    for fname in os.listdir(sub_dir):\n",
    "        if not fname.endswith(file_ext):\n",
    "            continue\n",
    "        match = re.match(pattern, fname)\n",
    "        if match:\n",
    "            if (task is None or match.group(\"task\") == task) and \\\n",
    "               (mode is None or match.group(\"mode\") == mode):\n",
    "                matches.append(os.path.join(sub_dir, fname))\n",
    "\n",
    "    return matches\n",
    "\n",
    "search_trf_files(1, task='decode', mode='gamma')"
   ]
  },
  {
   "cell_type": "markdown",
   "id": "71b2dbce",
   "metadata": {},
   "source": [
    "# DECODING"
   ]
  },
  {
   "cell_type": "code",
   "execution_count": 3,
   "id": "3ac02167",
   "metadata": {},
   "outputs": [],
   "source": [
    "GT = np.load('../TRF_outputs/ground_truth_r05.npy')\n",
    "SYLBER_FEATURES = data_utils.SYLBER_FEATURES\n",
    "SEGMENTS = SYLBER_FEATURES['segments']\n",
    "START_TIME = 9000"
   ]
  },
  {
   "cell_type": "code",
   "execution_count": null,
   "id": "1fa43f06",
   "metadata": {},
   "outputs": [],
   "source": [
    "modes = ('alpha', 'beta', 'gamma', 'highgamma', 'theta', 'clean')\n",
    "for mode in modes:\n",
    "    mode_corr_array = []\n",
    "    for sub_num in range(1, 10):\n",
    "        pred_pth = search_trf_files(sub_num, task='decode', mode=mode)[0]\n",
    "        pred = np.load(pred_pth)\n",
    "        pred = stat_utils.cutoff_or_pad(pred, len(GT))\n",
    "        corr = stat_utils.componentwise_spearman(pred, GT)\n",
    "        mode_corr_array.append(corr)\n",
    "    mode_corr_array = np.array(mode_corr_array)  # Shape: (subjects, features)"
   ]
  },
  {
   "cell_type": "code",
   "execution_count": null,
   "id": "9f833cf6",
   "metadata": {},
   "outputs": [],
   "source": []
  }
 ],
 "metadata": {
  "kernelspec": {
   "display_name": "base",
   "language": "python",
   "name": "python3"
  },
  "language_info": {
   "codemirror_mode": {
    "name": "ipython",
    "version": 3
   },
   "file_extension": ".py",
   "mimetype": "text/x-python",
   "name": "python",
   "nbconvert_exporter": "python",
   "pygments_lexer": "ipython3",
   "version": "3.13.5"
  }
 },
 "nbformat": 4,
 "nbformat_minor": 5
}
