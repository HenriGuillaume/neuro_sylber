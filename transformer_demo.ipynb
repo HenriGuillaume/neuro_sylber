{
 "cells": [
  {
   "cell_type": "code",
   "execution_count": 24,
   "id": "f261b75c",
   "metadata": {},
   "outputs": [],
   "source": [
    "import numpy as np\n",
    "import scipy as sp\n",
    "from scipy.signal import correlate\n",
    "from matplotlib import pyplot as plt\n",
    "import mne\n",
    "import os, sys\n",
    "import pickle\n",
    "from IPython.display import clear_output\n",
    "import torch\n",
    "from neuro_transformers import  train_ecoghubert, ecoghubert_predict, ECoGHuBERT\n",
    "# getting sylber utils without running module initialization (crashes recent python verison)\n",
    "from utils import CONFIG\n",
    "import importlib.util\n",
    "from pathlib import Path\n",
    "\n",
    "segutils_path = Path(CONFIG['model']['sylber_dir']) / \"sylber\" / \"utils\" / \"segment_utils.py\"\n",
    "spec = importlib.util.spec_from_file_location(\"segment_utils\", segutils_path)\n",
    "segment_utils = importlib.util.module_from_spec(spec)\n",
    "sys.modules[\"segment_utils\"] = segment_utils\n",
    "spec.loader.exec_module(segment_utils)\n",
    "get_segment = segment_utils.get_segment"
   ]
  },
  {
   "cell_type": "code",
   "execution_count": 8,
   "id": "2f790c1b",
   "metadata": {},
   "outputs": [],
   "source": [
    "preds = np.load('./checkpoints/model_predictions_subject_1.npy', allow_pickle=True)\n",
    "sylber_data = np.load('./pickled_podcast/outputs.pkl', allow_pickle=True)\n",
    "HIDDEN_STATES = sylber_data['hidden_states']\n",
    "sylber_segments = sylber_data['segments']; del sylber_data"
   ]
  },
  {
   "cell_type": "code",
   "execution_count": 10,
   "id": "3731958e",
   "metadata": {},
   "outputs": [
    {
     "name": "stdout",
     "output_type": "stream",
     "text": [
      "Opening raw data file ds005574-1.0.2/derivatives/ecogprep/sub-01/ieeg/sub-01_task-podcast_desc-highgamma_ieeg.fif...\n",
      "    Range : 0 ... 921599 =      0.000 ...  1799.998 secs\n",
      "Ready.\n",
      "Loaded Sylber HuBERT weights\n",
      "Epoch 1/50\n"
     ]
    },
    {
     "name": "stderr",
     "output_type": "stream",
     "text": [
      "                                                                 \r"
     ]
    },
    {
     "name": "stdout",
     "output_type": "stream",
     "text": [
      "Train Loss: 0.9740 | Val Loss: 0.9484\n",
      "Epoch 2/50\n"
     ]
    },
    {
     "name": "stderr",
     "output_type": "stream",
     "text": [
      "                                                                 \r"
     ]
    },
    {
     "name": "stdout",
     "output_type": "stream",
     "text": [
      "Train Loss: 0.9517 | Val Loss: 0.9450\n",
      "Epoch 3/50\n"
     ]
    },
    {
     "name": "stderr",
     "output_type": "stream",
     "text": [
      "                                                                 \r"
     ]
    },
    {
     "name": "stdout",
     "output_type": "stream",
     "text": [
      "Train Loss: 0.9504 | Val Loss: 0.9445\n",
      "Epoch 4/50\n"
     ]
    },
    {
     "name": "stderr",
     "output_type": "stream",
     "text": [
      "                                                                 \r"
     ]
    },
    {
     "name": "stdout",
     "output_type": "stream",
     "text": [
      "Train Loss: 0.9497 | Val Loss: 0.9445\n",
      "Epoch 5/50\n"
     ]
    },
    {
     "name": "stderr",
     "output_type": "stream",
     "text": [
      "                                                                 \r"
     ]
    },
    {
     "name": "stdout",
     "output_type": "stream",
     "text": [
      "Train Loss: 0.9496 | Val Loss: 0.9446\n",
      "Epoch 6/50\n"
     ]
    },
    {
     "name": "stderr",
     "output_type": "stream",
     "text": [
      "                                                                 \r"
     ]
    },
    {
     "name": "stdout",
     "output_type": "stream",
     "text": [
      "Train Loss: 0.9494 | Val Loss: 0.9444\n",
      "Epoch 7/50\n"
     ]
    },
    {
     "name": "stderr",
     "output_type": "stream",
     "text": [
      "                                                                 \r"
     ]
    },
    {
     "name": "stdout",
     "output_type": "stream",
     "text": [
      "Train Loss: 0.9494 | Val Loss: 0.9447\n",
      "Epoch 8/50\n"
     ]
    },
    {
     "name": "stderr",
     "output_type": "stream",
     "text": [
      "                                                                 \r"
     ]
    },
    {
     "name": "stdout",
     "output_type": "stream",
     "text": [
      "Train Loss: 0.9491 | Val Loss: 0.9442\n",
      "Epoch 9/50\n"
     ]
    },
    {
     "name": "stderr",
     "output_type": "stream",
     "text": [
      "                                                                 \r"
     ]
    },
    {
     "name": "stdout",
     "output_type": "stream",
     "text": [
      "Train Loss: 0.9487 | Val Loss: 0.9442\n",
      "Epoch 10/50\n"
     ]
    },
    {
     "name": "stderr",
     "output_type": "stream",
     "text": [
      "                                                                  \r"
     ]
    },
    {
     "name": "stdout",
     "output_type": "stream",
     "text": [
      "Train Loss: 0.9488 | Val Loss: 0.9461\n",
      "Epoch 11/50\n"
     ]
    },
    {
     "name": "stderr",
     "output_type": "stream",
     "text": [
      "                                                                  \r"
     ]
    },
    {
     "name": "stdout",
     "output_type": "stream",
     "text": [
      "Train Loss: 0.9483 | Val Loss: 0.9503\n",
      "Epoch 12/50\n"
     ]
    },
    {
     "name": "stderr",
     "output_type": "stream",
     "text": [
      "                                                                  \r"
     ]
    },
    {
     "name": "stdout",
     "output_type": "stream",
     "text": [
      "Train Loss: 0.9475 | Val Loss: 0.9505\n",
      "Epoch 13/50\n"
     ]
    },
    {
     "name": "stderr",
     "output_type": "stream",
     "text": [
      "                                                                  \r"
     ]
    },
    {
     "name": "stdout",
     "output_type": "stream",
     "text": [
      "Train Loss: 0.9481 | Val Loss: 0.9484\n",
      "Epoch 14/50\n"
     ]
    },
    {
     "name": "stderr",
     "output_type": "stream",
     "text": [
      "                                                                  \r"
     ]
    },
    {
     "name": "stdout",
     "output_type": "stream",
     "text": [
      "Train Loss: 0.9467 | Val Loss: 0.9445\n",
      "Epoch 15/50\n"
     ]
    },
    {
     "name": "stderr",
     "output_type": "stream",
     "text": [
      "                                                                  \r"
     ]
    },
    {
     "name": "stdout",
     "output_type": "stream",
     "text": [
      "Train Loss: 0.9462 | Val Loss: 0.9456\n",
      "Epoch 16/50\n"
     ]
    },
    {
     "name": "stderr",
     "output_type": "stream",
     "text": [
      "                                                                  \r"
     ]
    },
    {
     "name": "stdout",
     "output_type": "stream",
     "text": [
      "Train Loss: 0.9465 | Val Loss: 0.9532\n",
      "Epoch 17/50\n"
     ]
    },
    {
     "name": "stderr",
     "output_type": "stream",
     "text": [
      "                                                                  \r"
     ]
    },
    {
     "name": "stdout",
     "output_type": "stream",
     "text": [
      "Train Loss: 0.9457 | Val Loss: 0.9496\n",
      "Epoch 18/50\n"
     ]
    },
    {
     "name": "stderr",
     "output_type": "stream",
     "text": [
      "                                                                  \r"
     ]
    },
    {
     "name": "stdout",
     "output_type": "stream",
     "text": [
      "Train Loss: 0.9457 | Val Loss: 0.9477\n",
      "Epoch 19/50\n"
     ]
    },
    {
     "name": "stderr",
     "output_type": "stream",
     "text": [
      "                                                                  \r"
     ]
    },
    {
     "name": "stdout",
     "output_type": "stream",
     "text": [
      "Train Loss: 0.9459 | Val Loss: 0.9479\n",
      "Epoch 20/50\n"
     ]
    },
    {
     "name": "stderr",
     "output_type": "stream",
     "text": [
      "                                                                  \r"
     ]
    },
    {
     "name": "stdout",
     "output_type": "stream",
     "text": [
      "Train Loss: 0.9462 | Val Loss: 0.9474\n",
      "Epoch 21/50\n"
     ]
    },
    {
     "name": "stderr",
     "output_type": "stream",
     "text": [
      "                                                                  \r"
     ]
    },
    {
     "name": "stdout",
     "output_type": "stream",
     "text": [
      "Train Loss: -0.5180 | Val Loss: -0.5413\n",
      "Epoch 22/50\n"
     ]
    },
    {
     "name": "stderr",
     "output_type": "stream",
     "text": [
      "                                                                  \r"
     ]
    },
    {
     "name": "stdout",
     "output_type": "stream",
     "text": [
      "Train Loss: -0.5502 | Val Loss: -0.5550\n",
      "Epoch 23/50\n"
     ]
    },
    {
     "name": "stderr",
     "output_type": "stream",
     "text": [
      "                                                                  \r"
     ]
    },
    {
     "name": "stdout",
     "output_type": "stream",
     "text": [
      "Train Loss: -0.5528 | Val Loss: -0.5541\n",
      "Epoch 24/50\n"
     ]
    },
    {
     "name": "stderr",
     "output_type": "stream",
     "text": [
      "                                                                  \r"
     ]
    },
    {
     "name": "stdout",
     "output_type": "stream",
     "text": [
      "Train Loss: -0.5527 | Val Loss: -0.5478\n",
      "Epoch 25/50\n"
     ]
    },
    {
     "name": "stderr",
     "output_type": "stream",
     "text": [
      "                                                                  \r"
     ]
    },
    {
     "name": "stdout",
     "output_type": "stream",
     "text": [
      "Train Loss: -0.5530 | Val Loss: -0.5523\n",
      "Epoch 26/50\n"
     ]
    },
    {
     "name": "stderr",
     "output_type": "stream",
     "text": [
      "                                                                  \r"
     ]
    },
    {
     "name": "stdout",
     "output_type": "stream",
     "text": [
      "Train Loss: -0.5565 | Val Loss: -0.5543\n",
      "Epoch 27/50\n"
     ]
    },
    {
     "name": "stderr",
     "output_type": "stream",
     "text": [
      "                                                                  \r"
     ]
    },
    {
     "name": "stdout",
     "output_type": "stream",
     "text": [
      "Train Loss: -0.5564 | Val Loss: -0.5508\n",
      "Epoch 28/50\n"
     ]
    },
    {
     "name": "stderr",
     "output_type": "stream",
     "text": [
      "                                                                  \r"
     ]
    },
    {
     "name": "stdout",
     "output_type": "stream",
     "text": [
      "Train Loss: -0.5546 | Val Loss: -0.5524\n",
      "Epoch 29/50\n"
     ]
    },
    {
     "name": "stderr",
     "output_type": "stream",
     "text": [
      "                                                                  \r"
     ]
    },
    {
     "name": "stdout",
     "output_type": "stream",
     "text": [
      "Train Loss: -0.5538 | Val Loss: -0.5537\n",
      "Epoch 30/50\n"
     ]
    },
    {
     "name": "stderr",
     "output_type": "stream",
     "text": [
      "                                                                  \r"
     ]
    },
    {
     "name": "stdout",
     "output_type": "stream",
     "text": [
      "Train Loss: -0.5560 | Val Loss: -0.5511\n",
      "Epoch 31/50\n"
     ]
    },
    {
     "name": "stderr",
     "output_type": "stream",
     "text": [
      "                                                                  \r"
     ]
    },
    {
     "name": "stdout",
     "output_type": "stream",
     "text": [
      "Train Loss: -0.5561 | Val Loss: -0.5524\n",
      "Epoch 32/50\n"
     ]
    },
    {
     "name": "stderr",
     "output_type": "stream",
     "text": [
      "                                                                  \r"
     ]
    },
    {
     "name": "stdout",
     "output_type": "stream",
     "text": [
      "Train Loss: -0.5566 | Val Loss: -0.5520\n",
      "Epoch 33/50\n"
     ]
    },
    {
     "name": "stderr",
     "output_type": "stream",
     "text": [
      "                                                                  \r"
     ]
    },
    {
     "name": "stdout",
     "output_type": "stream",
     "text": [
      "Train Loss: -0.5584 | Val Loss: -0.5517\n",
      "Epoch 34/50\n"
     ]
    },
    {
     "name": "stderr",
     "output_type": "stream",
     "text": [
      "                                                                  \r"
     ]
    },
    {
     "name": "stdout",
     "output_type": "stream",
     "text": [
      "Train Loss: -0.5576 | Val Loss: -0.5528\n",
      "Epoch 35/50\n"
     ]
    },
    {
     "name": "stderr",
     "output_type": "stream",
     "text": [
      "                                                                  \r"
     ]
    },
    {
     "name": "stdout",
     "output_type": "stream",
     "text": [
      "Train Loss: -0.5559 | Val Loss: -0.5515\n",
      "Epoch 36/50\n"
     ]
    },
    {
     "name": "stderr",
     "output_type": "stream",
     "text": [
      "                                                                  \r"
     ]
    },
    {
     "name": "stdout",
     "output_type": "stream",
     "text": [
      "Train Loss: -0.5580 | Val Loss: -0.5511\n",
      "Epoch 37/50\n"
     ]
    },
    {
     "name": "stderr",
     "output_type": "stream",
     "text": [
      "                                                                  \r"
     ]
    },
    {
     "name": "stdout",
     "output_type": "stream",
     "text": [
      "Train Loss: -0.5570 | Val Loss: -0.5511\n",
      "Epoch 38/50\n"
     ]
    },
    {
     "name": "stderr",
     "output_type": "stream",
     "text": [
      "                                                                  \r"
     ]
    },
    {
     "name": "stdout",
     "output_type": "stream",
     "text": [
      "Train Loss: -0.5577 | Val Loss: -0.5526\n",
      "Epoch 39/50\n"
     ]
    },
    {
     "name": "stderr",
     "output_type": "stream",
     "text": [
      "                                                                  \r"
     ]
    },
    {
     "name": "stdout",
     "output_type": "stream",
     "text": [
      "Train Loss: -0.5579 | Val Loss: -0.5523\n",
      "Epoch 40/50\n"
     ]
    },
    {
     "name": "stderr",
     "output_type": "stream",
     "text": [
      "                                                                  \r"
     ]
    },
    {
     "name": "stdout",
     "output_type": "stream",
     "text": [
      "Train Loss: -0.5558 | Val Loss: -0.5518\n",
      "Epoch 41/50\n"
     ]
    },
    {
     "name": "stderr",
     "output_type": "stream",
     "text": [
      "                                                                  \r"
     ]
    },
    {
     "name": "stdout",
     "output_type": "stream",
     "text": [
      "Train Loss: -0.5575 | Val Loss: -0.5520\n",
      "Epoch 42/50\n"
     ]
    },
    {
     "name": "stderr",
     "output_type": "stream",
     "text": [
      "                                                                  \r"
     ]
    },
    {
     "name": "stdout",
     "output_type": "stream",
     "text": [
      "Train Loss: -0.5560 | Val Loss: -0.5520\n",
      "Epoch 43/50\n"
     ]
    },
    {
     "name": "stderr",
     "output_type": "stream",
     "text": [
      "                                                                  \r"
     ]
    },
    {
     "name": "stdout",
     "output_type": "stream",
     "text": [
      "Train Loss: -0.5579 | Val Loss: -0.5519\n",
      "Epoch 44/50\n"
     ]
    },
    {
     "name": "stderr",
     "output_type": "stream",
     "text": [
      "                                                                  \r"
     ]
    },
    {
     "name": "stdout",
     "output_type": "stream",
     "text": [
      "Train Loss: -0.5587 | Val Loss: -0.5526\n",
      "Epoch 45/50\n"
     ]
    },
    {
     "name": "stderr",
     "output_type": "stream",
     "text": [
      "                                                                  \r"
     ]
    },
    {
     "name": "stdout",
     "output_type": "stream",
     "text": [
      "Train Loss: -0.5568 | Val Loss: -0.5525\n",
      "Epoch 46/50\n"
     ]
    },
    {
     "name": "stderr",
     "output_type": "stream",
     "text": [
      "                                                                  \r"
     ]
    },
    {
     "name": "stdout",
     "output_type": "stream",
     "text": [
      "Train Loss: -0.5586 | Val Loss: -0.5518\n",
      "Epoch 47/50\n"
     ]
    },
    {
     "name": "stderr",
     "output_type": "stream",
     "text": [
      "                                                                  \r"
     ]
    },
    {
     "name": "stdout",
     "output_type": "stream",
     "text": [
      "Train Loss: -0.5561 | Val Loss: -0.5515\n",
      "Epoch 48/50\n"
     ]
    },
    {
     "name": "stderr",
     "output_type": "stream",
     "text": [
      "                                                                  \r"
     ]
    },
    {
     "name": "stdout",
     "output_type": "stream",
     "text": [
      "Train Loss: -0.5591 | Val Loss: -0.5519\n",
      "Epoch 49/50\n"
     ]
    },
    {
     "name": "stderr",
     "output_type": "stream",
     "text": [
      "                                                                  \r"
     ]
    },
    {
     "name": "stdout",
     "output_type": "stream",
     "text": [
      "Train Loss: -0.5575 | Val Loss: -0.5518\n",
      "Epoch 50/50\n"
     ]
    },
    {
     "name": "stderr",
     "output_type": "stream",
     "text": [
      "                                                                  \r"
     ]
    },
    {
     "name": "stdout",
     "output_type": "stream",
     "text": [
      "Train Loss: -0.5581 | Val Loss: -0.5523\n"
     ]
    }
   ],
   "source": [
    "model, (test_X, test_y) = train_ecoghubert(sub_num=1,\n",
    "                                           train_ratio=0.8,\n",
    "                                           val_ratio=0.1,\n",
    "                                           batch_size=128,\n",
    "                                           save_folder='doodoo',\n",
    "                                           hidden_states=HIDDEN_STATES,\n",
    "                                           chunk_len=100, # 2 seconds at 50Hz\n",
    "                                           max_plateau=False,\n",
    "                                           loss_type='mse->cosine',\n",
    "                                           loss_switch_epoch=20,\n",
    "                                           n_epochs=50)"
   ]
  },
  {
   "cell_type": "code",
   "execution_count": 11,
   "id": "11608670",
   "metadata": {},
   "outputs": [
    {
     "name": "stderr",
     "output_type": "stream",
     "text": [
      "Predicting:   0%|          | 0/12 [00:00<?, ?it/s]"
     ]
    },
    {
     "name": "stderr",
     "output_type": "stream",
     "text": [
      "Predicting: 100%|██████████| 12/12 [00:00<00:00, 63.34it/s]\n"
     ]
    }
   ],
   "source": [
    "from neuro_transformers import  ecoghubert_predict\n",
    "predictions_np = ecoghubert_predict(model, test_X, test_y).numpy()"
   ]
  },
  {
   "cell_type": "code",
   "execution_count": 12,
   "id": "1f3b2795",
   "metadata": {},
   "outputs": [
    {
     "data": {
      "text/plain": [
       "((9000, 768), torch.Size([9001, 768]))"
      ]
     },
     "execution_count": 12,
     "metadata": {},
     "output_type": "execute_result"
    }
   ],
   "source": [
    "preds= predictions_np.reshape(-1, predictions_np.shape[-1])\n",
    "preds.shape, test_y.shape"
   ]
  },
  {
   "cell_type": "code",
   "execution_count": 71,
   "id": "500feb34",
   "metadata": {},
   "outputs": [
    {
     "data": {
      "image/png": "[encoded data removed]",
      "text/plain": [
       "<Figure size 500x1000 with 2 Axes>"
      ]
     },
     "metadata": {},
     "output_type": "display_data"
    }
   ],
   "source": [
    "f, (a0, a1) = plt.subplots(2, 1,figsize=(5,10))\n",
    "test_start_time = 1620.0\n",
    "s, e = 1796.6, 1797.6\n",
    "\n",
    "def time_to_rel_idx(t, start=test_start_time, sr=50):\n",
    "    return int((t - start) * sr)\n",
    "\n",
    "frame_start, frame_end = time_to_rel_idx(s), time_to_rel_idx(e)\n",
    "\n",
    "preds_frame = preds[frame_start: frame_end]\n",
    "y_frame = test_y[frame_start: frame_end]\n",
    "\n",
    "\n",
    "a0.imshow(preds_frame@preds_frame.T)\n",
    "a1.imshow(y_frame@y_frame.T)\n",
    "\n",
    "# segments\n",
    "preds_norms = np.linalg.norm(preds_frame, axis=-1)\n",
    "target_norms = np.linalg.norm(y_frame, axis=-1)\n",
    "\n",
    "# plot segments\n",
    "norm_threshold, merge_threshold = 0.1, 0.9\n",
    "segments_y = get_segment(y_frame, norm_threshold, merge_threshold, norms=target_norms)\n",
    "for si, ei in segments_y:\n",
    "    a1.axvline(si, color='gold',ls='--',alpha=0.7,label='onset')\n",
    "    a1.axvline(ei, color='gold', ls='--',alpha=0.7,label='offset')\n",
    "\n",
    "norm_threshold, merge_threshold = 0.1, 0.9995\n",
    "segments_pred = get_segment(preds_frame, norm_threshold, merge_threshold, norms=preds_norms)\n",
    "for si, ei in segments_pred:\n",
    "    a0.axvline(si, color='red',ls='--',alpha=0.7,label='onset')\n",
    "    a0.axvline(ei, color='red', ls='--',alpha=0.7,label='offset')"
   ]
  }
 ],
 "metadata": {
  "kernelspec": {
   "display_name": "base",
   "language": "python",
   "name": "python3"
  },
  "language_info": {
   "codemirror_mode": {
    "name": "ipython",
    "version": 3
   },
   "file_extension": ".py",
   "mimetype": "text/x-python",
   "name": "python",
   "nbconvert_exporter": "python",
   "pygments_lexer": "ipython3",
   "version": "3.13.5"
  }
 },
 "nbformat": 4,
 "nbformat_minor": 5
}
