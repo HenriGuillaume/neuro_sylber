{
 "cells": [
  {
   "cell_type": "code",
   "execution_count": 2,
   "id": "e974c601",
   "metadata": {},
   "outputs": [],
   "source": [
    "import numpy as np\n",
    "import scipy as sp\n",
    "from sklearn.decomposition import PCA\n",
    "from matplotlib import pyplot as plt\n",
    "import mne\n",
    "from mne.decoding import ReceptiveField, TimeDelayingRidge\n",
    "import os\n",
    "import re\n",
    "import pickle\n",
    "from utils import Subject, SplitDataset, TRF, split_data\n",
    "from IPython.display import clear_output"
   ]
  },
  {
   "cell_type": "markdown",
   "id": "baabecd9",
   "metadata": {},
   "source": [
    "# READING THE ECoG DATA"
   ]
  },
  {
   "cell_type": "code",
   "execution_count": 15,
   "id": "79eb3656",
   "metadata": {},
   "outputs": [],
   "source": [
    "# ECoG dataset\n",
    "DS_DIR = './ds005574-1.0.2/'\n",
    "ECOGPREP_DIR = os.path.join(DS_DIR, 'derivatives/ecogprep/')\n",
    "ECOGGQC_DIR = os.path.join(DS_DIR, 'derivatives/ecogqc/')\n",
    "SUB_NAMES = [f'sub-0{i}' for i in range(10)]"
   ]
  },
  {
   "cell_type": "code",
   "execution_count": 16,
   "id": "accd2b90",
   "metadata": {},
   "outputs": [
    {
     "name": "stdout",
     "output_type": "stream",
     "text": [
      "Opening raw data file ./ds005574-1.0.2/derivatives/ecogprep/sub-01/ieeg/sub-01_task-podcast_desc-highgamma_ieeg.fif...\n",
      "    Range : 0 ... 921599 =      0.000 ...  1799.998 secs\n",
      "Ready.\n"
     ]
    },
    {
     "data": {
      "text/html": [
       "<script type=\"text/javascript\">\n",
       "    // must be `var` (not `const`) because this can get embedded multiple times on a page\n",
       "var toggleVisibility = (className) => {\n",
       "\n",
       "    const elements = document.querySelectorAll(`.${className}`);\n",
       "\n",
       "    elements.forEach(element => {\n",
       "        if (element.classList.contains(\"mne-repr-section-header\")) {\n",
       "            return  // Don't collapse the section header row\n",
       "        }\n",
       "        element.classList.toggle(\"mne-repr-collapsed\");\n",
       "    });\n",
       "\n",
       "    // trigger caret to rotate\n",
       "    var sel = `.mne-repr-section-header.${className} > th.mne-repr-section-toggle > button`;\n",
       "    const button = document.querySelector(sel);\n",
       "    button.classList.toggle(\"collapsed\");\n",
       "\n",
       "    // adjust tooltip\n",
       "    sel = `tr.mne-repr-section-header.${className}`;\n",
       "    const secHeadRow = document.querySelector(sel);\n",
       "    secHeadRow.classList.toggle(\"collapsed\");\n",
       "    secHeadRow.title = secHeadRow.title === \"Hide section\" ? \"Show section\" : \"Hide section\";\n",
       "}\n",
       "</script>\n",
       "\n",
       "<style type=\"text/css\">\n",
       "    /*\n",
       "Styles in this section apply both to the sphinx-built website docs and to notebooks\n",
       "rendered in an IDE or in Jupyter. In our web docs, styles here are complemented by\n",
       "doc/_static/styles.css and other CSS files (e.g. from the sphinx theme, sphinx-gallery,\n",
       "or bootstrap). In IDEs/Jupyter, those style files are unavailable, so only the rules in\n",
       "this file apply (plus whatever default styling the IDE applies).\n",
       "*/\n",
       ".mne-repr-table {\n",
       "    display: inline;  /* prevent using full container width */\n",
       "}\n",
       ".mne-repr-table tr.mne-repr-section-header > th {\n",
       "    padding-top: 1rem;\n",
       "    text-align: left;\n",
       "    vertical-align: middle;\n",
       "}\n",
       ".mne-repr-section-toggle > button {\n",
       "    all: unset;\n",
       "    display: block;\n",
       "    height: 1rem;\n",
       "    width: 1rem;\n",
       "}\n",
       ".mne-repr-section-toggle > button > svg {\n",
       "    height: 60%;\n",
       "}\n",
       "\n",
       "/* transition (rotation) effects on the collapser button */\n",
       ".mne-repr-section-toggle > button.collapsed > svg {\n",
       "    transition: 0.1s ease-out;\n",
       "    transform: rotate(-90deg);\n",
       "}\n",
       ".mne-repr-section-toggle > button:not(.collapsed) > svg {\n",
       "    transition: 0.1s ease-out;\n",
       "    transform: rotate(0deg);\n",
       "}\n",
       "\n",
       "/* hide collapsed table rows */\n",
       ".mne-repr-collapsed {\n",
       "    display: none;\n",
       "}\n",
       "\n",
       "\n",
       "@layer {\n",
       "    /*\n",
       "    Selectors in a `@layer` will always be lower-precedence than selectors outside the\n",
       "    layer. So even though e.g. `div.output_html` is present in the sphinx-rendered\n",
       "    website docs, the styles here won't take effect there as long as some other rule\n",
       "    somewhere in the page's CSS targets the same element.\n",
       "\n",
       "    In IDEs or Jupyter notebooks, though, the CSS files from the sphinx theme,\n",
       "    sphinx-gallery, and bootstrap are unavailable, so these styles will apply.\n",
       "\n",
       "    Notes:\n",
       "\n",
       "    - the selector `.accordion-body` is for MNE Reports\n",
       "    - the selector `.output_html` is for VSCode's notebook interface\n",
       "    - the selector `.jp-RenderedHTML` is for Jupyter notebook\n",
       "    - variables starting with `--theme-` are VSCode-specific.\n",
       "    - variables starting with `--jp-` are Jupyter styles, *some of which* are also\n",
       "      available in VSCode. Here we try the `--theme-` variable first, then fall back to\n",
       "      the `--jp-` ones.\n",
       "    */\n",
       "    .mne-repr-table {\n",
       "        --mne-toggle-color: var(--theme-foreground, var(--jp-ui-font-color1));\n",
       "        --mne-button-bg-color: var(--theme-button-background, var(--jp-info-color0, var(--jp-content-link-color)));\n",
       "        --mne-button-fg-color: var(--theme-button-foreground, var(--jp-ui-inverse-font-color0, var(--jp-editor-background)));\n",
       "        --mne-button-hover-bg-color: var(--theme-button-hover-background, var(--jp-info-color1));\n",
       "        --mne-button-radius: var(--jp-border-radius, 0.25rem);\n",
       "    }\n",
       "    /* chevron position/alignment; in VSCode it looks ok without adjusting */\n",
       "    .accordion-body .mne-repr-section-toggle > button,\n",
       "    .jp-RenderedHTML .mne-repr-section-toggle > button {\n",
       "        padding: 0 0 45% 25% !important;\n",
       "    }\n",
       "    /* chevron color; MNE Report doesn't have light/dark mode */\n",
       "    div.output_html .mne-repr-section-toggle > button > svg > path,\n",
       "    .jp-RenderedHTML .mne-repr-section-toggle > button > svg > path {\n",
       "        fill: var(--mne-toggle-color);\n",
       "    }\n",
       "    .accordion-body .mne-ch-names-btn,\n",
       "    div.output_html .mne-ch-names-btn,\n",
       "    .jp-RenderedHTML .mne-ch-names-btn {\n",
       "        -webkit-border-radius: var(--mne-button-radius);\n",
       "        -moz-border-radius: var(--mne-button-radius);\n",
       "        border-radius: var(--mne-button-radius);\n",
       "        border: none;\n",
       "        background-image: none;\n",
       "        background-color: var(--mne-button-bg-color);\n",
       "        color: var(--mne-button-fg-color);\n",
       "        font-size: inherit;\n",
       "        min-width: 1.5rem;\n",
       "        padding: 0.25rem;\n",
       "        text-align: center;\n",
       "        text-decoration: none;\n",
       "    }\n",
       "    .accordion-body .mne-ch-names-btn:hover,\n",
       "    div.output_html .mne.ch-names-btn:hover,\n",
       "    .jp-RenderedHTML .mne-ch-names-btn:hover {\n",
       "        background-color: var(--mne-button-hover-bg-color);\n",
       "        text-decoration: underline;\n",
       "    }\n",
       "    .accordion-body .mne-ch-names-btn:focus-visible,\n",
       "    div.output_html .mne-ch-names-btn:focus-visible,\n",
       "    .jp-RenderedHTML .mne-ch-names-btn:focus-visible {\n",
       "        outline: 0.1875rem solid var(--mne-button-bg-color) !important;\n",
       "        outline-offset: 0.1875rem !important;\n",
       "    }\n",
       "}\n",
       "</style>\n",
       "\n",
       "\n",
       "\n",
       "<table class=\"table mne-repr-table\">\n",
       "    \n",
       "\n",
       "\n",
       "\n",
       "\n",
       "\n",
       "\n",
       "\n",
       "<tr class=\"mne-repr-section-header general-0d1799ba-fe3e-44a5-9814-c0f2375066fb\"\n",
       "     title=\"Hide section\" \n",
       "    onclick=\"toggleVisibility('general-0d1799ba-fe3e-44a5-9814-c0f2375066fb')\">\n",
       "    <th class=\"mne-repr-section-toggle\">\n",
       "        <button >\n",
       "            <svg xmlns=\"http://www.w3.org/2000/svg\" viewBox=\"0 0 512 512\"><!--!Font Awesome Free 6.6.0 by @fontawesome - https://fontawesome.com License - https://fontawesome.com/license/free Copyright 2024 Fonticons, Inc.--><path d=\"M233.4 406.6c12.5 12.5 32.8 12.5 45.3 0l192-192c12.5-12.5 12.5-32.8 0-45.3s-32.8-12.5-45.3 0L256 338.7 86.6 169.4c-12.5-12.5-32.8-12.5-45.3 0s-12.5 32.8 0 45.3l192 192z\"/></svg>\n",
       "        </button>\n",
       "    </th>\n",
       "    <th colspan=\"2\">\n",
       "        <strong>General</strong>\n",
       "    </th>\n",
       "</tr>\n",
       "\n",
       "\n",
       "<tr class=\"repr-element general-0d1799ba-fe3e-44a5-9814-c0f2375066fb \">\n",
       "    <td class=\"mne-repr-section-toggle\"></td>\n",
       "    <td>Filename(s)</td>\n",
       "    <td>\n",
       "        \n",
       "        sub-01_task-podcast_desc-highgamma_ieeg.fif\n",
       "        \n",
       "        \n",
       "    </td>\n",
       "</tr>\n",
       "\n",
       "<tr class=\"repr-element general-0d1799ba-fe3e-44a5-9814-c0f2375066fb \">\n",
       "    <td class=\"mne-repr-section-toggle\"></td>\n",
       "    <td>MNE object type</td>\n",
       "    <td>Raw</td>\n",
       "</tr>\n",
       "<tr class=\"repr-element general-0d1799ba-fe3e-44a5-9814-c0f2375066fb \">\n",
       "    <td class=\"mne-repr-section-toggle\"></td>\n",
       "    <td>Measurement date</td>\n",
       "    \n",
       "    <td>2024-09-17 at 12:02:32 UTC</td>\n",
       "    \n",
       "</tr>\n",
       "<tr class=\"repr-element general-0d1799ba-fe3e-44a5-9814-c0f2375066fb \">\n",
       "    <td class=\"mne-repr-section-toggle\"></td>\n",
       "    <td>Participant</td>\n",
       "    \n",
       "    \n",
       "    <td>sub-01</td>\n",
       "    \n",
       "    \n",
       "</tr>\n",
       "<tr class=\"repr-element general-0d1799ba-fe3e-44a5-9814-c0f2375066fb \">\n",
       "    <td class=\"mne-repr-section-toggle\"></td>\n",
       "    <td>Experimenter</td>\n",
       "    \n",
       "    <td>Unknown</td>\n",
       "    \n",
       "</tr>\n",
       "    \n",
       "\n",
       "\n",
       "\n",
       "\n",
       "\n",
       "\n",
       "\n",
       "<tr class=\"mne-repr-section-header acquisition-869cda74-e9db-4e89-a7e4-2948fcd8ff17\"\n",
       "     title=\"Hide section\" \n",
       "    onclick=\"toggleVisibility('acquisition-869cda74-e9db-4e89-a7e4-2948fcd8ff17')\">\n",
       "    <th class=\"mne-repr-section-toggle\">\n",
       "        <button >\n",
       "            <svg xmlns=\"http://www.w3.org/2000/svg\" viewBox=\"0 0 512 512\"><!--!Font Awesome Free 6.6.0 by @fontawesome - https://fontawesome.com License - https://fontawesome.com/license/free Copyright 2024 Fonticons, Inc.--><path d=\"M233.4 406.6c12.5 12.5 32.8 12.5 45.3 0l192-192c12.5-12.5 12.5-32.8 0-45.3s-32.8-12.5-45.3 0L256 338.7 86.6 169.4c-12.5-12.5-32.8-12.5-45.3 0s-12.5 32.8 0 45.3l192 192z\"/></svg>\n",
       "        </button>\n",
       "    </th>\n",
       "    <th colspan=\"2\">\n",
       "        <strong>Acquisition</strong>\n",
       "    </th>\n",
       "</tr>\n",
       "\n",
       "\n",
       "<tr class=\"repr-element acquisition-869cda74-e9db-4e89-a7e4-2948fcd8ff17 \">\n",
       "    <td class=\"mne-repr-section-toggle\"></td>\n",
       "    <td>Duration</td>\n",
       "    <td>00:30:00 (HH:MM:SS)</td>\n",
       "</tr>\n",
       "\n",
       "\n",
       "\n",
       "\n",
       "\n",
       "\n",
       "\n",
       "\n",
       "<tr class=\"repr-element acquisition-869cda74-e9db-4e89-a7e4-2948fcd8ff17 \">\n",
       "    <td class=\"mne-repr-section-toggle\"></td>\n",
       "    <td>Sampling frequency</td>\n",
       "    <td>512.00 Hz</td>\n",
       "</tr>\n",
       "\n",
       "\n",
       "<tr class=\"repr-element acquisition-869cda74-e9db-4e89-a7e4-2948fcd8ff17 \">\n",
       "    <td class=\"mne-repr-section-toggle\"></td>\n",
       "    <td>Time points</td>\n",
       "    <td>921,600</td>\n",
       "</tr>\n",
       "\n",
       "\n",
       "    \n",
       "\n",
       "\n",
       "\n",
       "\n",
       "\n",
       "\n",
       "\n",
       "<tr class=\"mne-repr-section-header channels-fb15e19b-97d3-4e8f-a084-bac11b93634a\"\n",
       "     title=\"Hide section\" \n",
       "    onclick=\"toggleVisibility('channels-fb15e19b-97d3-4e8f-a084-bac11b93634a')\">\n",
       "    <th class=\"mne-repr-section-toggle\">\n",
       "        <button >\n",
       "            <svg xmlns=\"http://www.w3.org/2000/svg\" viewBox=\"0 0 512 512\"><!--!Font Awesome Free 6.6.0 by @fontawesome - https://fontawesome.com License - https://fontawesome.com/license/free Copyright 2024 Fonticons, Inc.--><path d=\"M233.4 406.6c12.5 12.5 32.8 12.5 45.3 0l192-192c12.5-12.5 12.5-32.8 0-45.3s-32.8-12.5-45.3 0L256 338.7 86.6 169.4c-12.5-12.5-32.8-12.5-45.3 0s-12.5 32.8 0 45.3l192 192z\"/></svg>\n",
       "        </button>\n",
       "    </th>\n",
       "    <th colspan=\"2\">\n",
       "        <strong>Channels</strong>\n",
       "    </th>\n",
       "</tr>\n",
       "\n",
       "\n",
       "    \n",
       "<tr class=\"repr-element channels-fb15e19b-97d3-4e8f-a084-bac11b93634a \">\n",
       "    <td class=\"mne-repr-section-toggle\"></td>\n",
       "    <td>ECoG</td>\n",
       "    <td>\n",
       "        <button class=\"mne-ch-names-btn sd-sphinx-override sd-btn sd-btn-info sd-text-wrap sd-shadow-sm\" onclick=\"alert('Good ECoG:\\n\\nG2, G3, G4, G5, G6, G7, G8, G9, G10, G11, G12, G13, G14, G15, G16, G17, G18, G19, G20, G21, G22, G23, G24, G25, G26, G27, G28, G29, G30, G31, G32, G33, G34, G35, G36, G37, G38, G39, G40, G41, G42, G43, G44, G45, G46, G47, G48, G49, G50, G51, G52, G53, G54, G55, G56, G57, G58, G59, G60, G61, G62, G63, G64, AT1, AT2, AT3, AT4, MT1, MT2, MT3, MT4, PT1, PT2, PT3, PT4, OC1, OC2, OC3, OC4, OC5, OC6, OC7, OC8, FR1, FR2, FR3, FR4, DAMT2, DAMT3, DAMT4, DAMT5, DAMT6, DAMT7, DAMT8, DPMT1, DPMT2, DPMT3, DPMT5, DPMT8')\" title=\"(Click to open in popup)&#13;&#13;G2, G3, G4, G5, G6, G7, G8, G9, G10, G11, G12, G13, G14, G15, G16, G17, G18, G19, G20, G21, G22, G23, G24, G25, G26, G27, G28, G29, G30, G31, G32, G33, G34, G35, G36, G37, G38, G39, G40, G41, G42, G43, G44, G45, G46, G47, G48, G49, G50, G51, G52, G53, G54, G55, G56, G57, G58, G59, G60, G61, G62, G63, G64, AT1, AT2, AT3, AT4, MT1, MT2, MT3, MT4, PT1, PT2, PT3, PT4, OC1, OC2, OC3, OC4, OC5, OC6, OC7, OC8, FR1, FR2, FR3, FR4, DAMT2, DAMT3, DAMT4, DAMT5, DAMT6, DAMT7, DAMT8, DPMT1, DPMT2, DPMT3, DPMT5, DPMT8\">\n",
       "            99\n",
       "        </button>\n",
       "\n",
       "        \n",
       "    </td>\n",
       "</tr>\n",
       "\n",
       "\n",
       "<tr class=\"repr-element channels-fb15e19b-97d3-4e8f-a084-bac11b93634a \">\n",
       "    <td class=\"mne-repr-section-toggle\"></td>\n",
       "    <td>Head & sensor digitization</td>\n",
       "    \n",
       "    <td>102 points</td>\n",
       "    \n",
       "</tr>\n",
       "    \n",
       "\n",
       "\n",
       "\n",
       "\n",
       "\n",
       "\n",
       "\n",
       "<tr class=\"mne-repr-section-header filters-dfceafcc-558d-4785-87e6-873e245211e0\"\n",
       "     title=\"Hide section\" \n",
       "    onclick=\"toggleVisibility('filters-dfceafcc-558d-4785-87e6-873e245211e0')\">\n",
       "    <th class=\"mne-repr-section-toggle\">\n",
       "        <button >\n",
       "            <svg xmlns=\"http://www.w3.org/2000/svg\" viewBox=\"0 0 512 512\"><!--!Font Awesome Free 6.6.0 by @fontawesome - https://fontawesome.com License - https://fontawesome.com/license/free Copyright 2024 Fonticons, Inc.--><path d=\"M233.4 406.6c12.5 12.5 32.8 12.5 45.3 0l192-192c12.5-12.5 12.5-32.8 0-45.3s-32.8-12.5-45.3 0L256 338.7 86.6 169.4c-12.5-12.5-32.8-12.5-45.3 0s-12.5 32.8 0 45.3l192 192z\"/></svg>\n",
       "        </button>\n",
       "    </th>\n",
       "    <th colspan=\"2\">\n",
       "        <strong>Filters</strong>\n",
       "    </th>\n",
       "</tr>\n",
       "\n",
       "\n",
       "<tr class=\"repr-element filters-dfceafcc-558d-4785-87e6-873e245211e0 \">\n",
       "    <td class=\"mne-repr-section-toggle\"></td>\n",
       "    <td>Highpass</td>\n",
       "    <td>70.00 Hz</td>\n",
       "</tr>\n",
       "\n",
       "\n",
       "<tr class=\"repr-element filters-dfceafcc-558d-4785-87e6-873e245211e0 \">\n",
       "    <td class=\"mne-repr-section-toggle\"></td>\n",
       "    <td>Lowpass</td>\n",
       "    <td>200.00 Hz</td>\n",
       "</tr>\n",
       "\n",
       "\n",
       "</table>"
      ],
      "text/plain": [
       "<Raw | sub-01_task-podcast_desc-highgamma_ieeg.fif, 99 x 921600 (1800.0 s), ~118 KiB, data not loaded>"
      ]
     },
     "execution_count": 16,
     "metadata": {},
     "output_type": "execute_result"
    }
   ],
   "source": [
    "s1 = Subject(1)\n",
    "mne.io.read_raw_fif(s1.hg_path)"
   ]
  },
  {
   "cell_type": "markdown",
   "id": "308775eb",
   "metadata": {},
   "source": [
    "# REMOVING BAD ELECTRODES"
   ]
  },
  {
   "cell_type": "markdown",
   "id": "1dcc165d",
   "metadata": {},
   "source": [
    "# READING THE SYLBER FEATURES"
   ]
  },
  {
   "cell_type": "code",
   "execution_count": 17,
   "id": "d5c7ed01",
   "metadata": {},
   "outputs": [],
   "source": [
    "# sylber features of the podcast\n",
    "SYLBER_FEAT_DIR = './pickled_podcast/'\n",
    "def open_pickle(pth):\n",
    "    with open(pth, 'rb') as handle:\n",
    "        b = pickle.load(handle)\n",
    "    return b\n",
    "\n",
    "full_sylber_features = open_pickle(os.path.join(SYLBER_FEAT_DIR,\n",
    "'merged_output.pickle'))"
   ]
  },
  {
   "cell_type": "code",
   "execution_count": null,
   "id": "38ee9fd1",
   "metadata": {},
   "outputs": [
    {
     "name": "stdout",
     "output_type": "stream",
     "text": [
      "dict_keys(['segments', 'segment_features', 'hidden_states'])\n",
      "29.998\n",
      "[25.36695533 25.3669556 ]\n"
     ]
    }
   ],
   "source": [
    "print(full_sylber_features.keys())\n",
    "# Hubert (sylber) returns features at 50Hz\n",
    "print(full_sylber_features['hidden_states'].shape[0]/(50*60))\n",
    "print(full_sylber_features['segments'][-1]/(16000*60))"
   ]
  },
  {
   "cell_type": "markdown",
   "id": "ee8fd9f8",
   "metadata": {},
   "source": [
    "[Temporal respons functions](https://mne.tools/stable/generated/mne.decoding.ReceptiveField.html), such as the one used in [this paper](https://ai.meta.com/research/publications/emergence-of-language-in-the-developing-brain/) require that the input and output have the same size.\n",
    "\n",
    "However, our ECoG data is sampled at $512Hz$, and Sylber's features are sampled at $50Hz$, which leaves us with two solutions:\n",
    "\n",
    "- Downsample our ECoG signal, leaving us with a lot of information loss\n",
    "- Upsample our features signal"
   ]
  },
  {
   "cell_type": "code",
   "execution_count": 19,
   "id": "4ad32d23",
   "metadata": {},
   "outputs": [],
   "source": [
    "HIDDEN_STATES = full_sylber_features['hidden_states']\n",
    "SYLBER_PCA = 50\n",
    "if SYLBER_PCA:\n",
    "    pca = PCA(n_components=SYLBER_PCA)\n",
    "    HIDDEN_STATES = pca.fit_transform(HIDDEN_STATES)"
   ]
  },
  {
   "cell_type": "markdown",
   "id": "cfdf6086",
   "metadata": {},
   "source": [
    "# FINDING APPROPRIATE RIDGE REGULARIZATION"
   ]
  },
  {
   "cell_type": "markdown",
   "id": "3cecba36",
   "metadata": {},
   "source": [
    "We try and find an appropriate $\\alpha$ value for the ridge regularization, searching over 10 logarithmically spaced values between $10^{-2}$ and $10^7$, similarly to J.R.K's paper."
   ]
  },
  {
   "cell_type": "code",
   "execution_count": 20,
   "id": "ebd4e7d9",
   "metadata": {},
   "outputs": [],
   "source": [
    "def run_pipeline(sub_num, hidden_states, train_ratio=0.5, tmin=-0.2, tmax=1.0, sfreq=256, alpha=1.0, test_ratio=0.5):\n",
    "    '''\n",
    "    test_ratio: float: ratio of the test set to compute the score on\n",
    "    '''\n",
    "    dataset = split_data(sub_num, train_ratio, hidden_states, target_freq=sfreq)\n",
    "    trf_model = TRF(tmin, tmax, sfreq, alpha)\n",
    "    trf_model.fit(dataset)\n",
    "    # score if asked\n",
    "    score = None\n",
    "    if test_ratio is not None:\n",
    "        test_split_idx = int(test_ratio * dataset.test_X.shape[0])\n",
    "        score = trf_model.model.score(dataset.test_X[:test_split_idx], dataset.test_y[:test_split_idx])\n",
    "        score = np.mean(score)\n",
    "        print(f\"α: {alpha} Test score: {score:.4f}\")\n",
    "\n",
    "    filename = f'sub-0{sub_num}_r{train_ratio}_min{tmin}_max{tmax}_f{sfreq}_a{alpha}.pickle'\n",
    "    trf_model.save(filename)\n",
    "    print(\"Fitted model alpha:\", trf_model.model.estimator.alpha)\n",
    "\n",
    "    return trf_model, dataset, score"
   ]
  },
  {
   "cell_type": "code",
   "execution_count": 32,
   "id": "245b5a3c",
   "metadata": {},
   "outputs": [
    {
     "name": "stdout",
     "output_type": "stream",
     "text": [
      "Sub 1 | Testing alpha=1.00e-01\n",
      "Opening raw data file ./ds005574-1.0.2/derivatives/ecogprep/sub-01/ieeg/sub-01_task-podcast_desc-highgamma_ieeg.fif...\n",
      "    Range : 0 ... 921599 =      0.000 ...  1799.998 secs\n",
      "Ready.\n",
      "Fitting 1 epochs, 99 channels\n"
     ]
    },
    {
     "name": "stderr",
     "output_type": "stream",
     "text": [
      "100%|██████████| Sample : 5049/5049 [00:04<00:00, 1020.15it/s]\n"
     ]
    },
    {
     "name": "stdout",
     "output_type": "stream",
     "text": [
      "α: 0.1 Test score: 0.0755\n",
      "Fitted model alpha: 0.1\n",
      "Sub 1 | Testing alpha=1.00e+00\n",
      "Opening raw data file ./ds005574-1.0.2/derivatives/ecogprep/sub-01/ieeg/sub-01_task-podcast_desc-highgamma_ieeg.fif...\n",
      "    Range : 0 ... 921599 =      0.000 ...  1799.998 secs\n",
      "Ready.\n",
      "Fitting 1 epochs, 99 channels\n"
     ]
    },
    {
     "name": "stderr",
     "output_type": "stream",
     "text": [
      "100%|██████████| Sample : 5049/5049 [00:04<00:00, 1017.90it/s]\n"
     ]
    },
    {
     "name": "stdout",
     "output_type": "stream",
     "text": [
      "α: 1.0 Test score: 0.0755\n",
      "Fitted model alpha: 1.0\n",
      "Sub 1 | Testing alpha=1.00e+01\n",
      "Opening raw data file ./ds005574-1.0.2/derivatives/ecogprep/sub-01/ieeg/sub-01_task-podcast_desc-highgamma_ieeg.fif...\n",
      "    Range : 0 ... 921599 =      0.000 ...  1799.998 secs\n",
      "Ready.\n",
      "Fitting 1 epochs, 99 channels\n"
     ]
    },
    {
     "name": "stderr",
     "output_type": "stream",
     "text": [
      "100%|██████████| Sample : 5049/5049 [00:04<00:00, 1019.47it/s]\n"
     ]
    },
    {
     "name": "stdout",
     "output_type": "stream",
     "text": [
      "α: 10.0 Test score: 0.0756\n",
      "Fitted model alpha: 10.0\n",
      "Sub 1 | Testing alpha=1.00e+02\n",
      "Opening raw data file ./ds005574-1.0.2/derivatives/ecogprep/sub-01/ieeg/sub-01_task-podcast_desc-highgamma_ieeg.fif...\n",
      "    Range : 0 ... 921599 =      0.000 ...  1799.998 secs\n",
      "Ready.\n",
      "Fitting 1 epochs, 99 channels\n"
     ]
    },
    {
     "name": "stderr",
     "output_type": "stream",
     "text": [
      "100%|██████████| Sample : 5049/5049 [00:04<00:00, 1022.32it/s]\n"
     ]
    },
    {
     "name": "stdout",
     "output_type": "stream",
     "text": [
      "α: 100.0 Test score: 0.0759\n",
      "Fitted model alpha: 100.0\n",
      "Sub 1 | Testing alpha=1.00e+03\n",
      "Opening raw data file ./ds005574-1.0.2/derivatives/ecogprep/sub-01/ieeg/sub-01_task-podcast_desc-highgamma_ieeg.fif...\n",
      "    Range : 0 ... 921599 =      0.000 ...  1799.998 secs\n",
      "Ready.\n",
      "Fitting 1 epochs, 99 channels\n"
     ]
    },
    {
     "name": "stderr",
     "output_type": "stream",
     "text": [
      "100%|██████████| Sample : 5049/5049 [00:04<00:00, 1023.03it/s]\n"
     ]
    },
    {
     "name": "stdout",
     "output_type": "stream",
     "text": [
      "α: 1000.0 Test score: 0.0783\n",
      "Fitted model alpha: 1000.0\n",
      "Sub 1 | Testing alpha=1.00e+04\n",
      "Opening raw data file ./ds005574-1.0.2/derivatives/ecogprep/sub-01/ieeg/sub-01_task-podcast_desc-highgamma_ieeg.fif...\n",
      "    Range : 0 ... 921599 =      0.000 ...  1799.998 secs\n",
      "Ready.\n",
      "Fitting 1 epochs, 99 channels\n"
     ]
    },
    {
     "name": "stderr",
     "output_type": "stream",
     "text": [
      "100%|██████████| Sample : 5049/5049 [00:04<00:00, 1016.97it/s]\n"
     ]
    },
    {
     "name": "stdout",
     "output_type": "stream",
     "text": [
      "α: 10000.0 Test score: 0.0852\n",
      "Fitted model alpha: 10000.0\n",
      "Sub 1 | Testing alpha=1.00e+05\n",
      "Opening raw data file ./ds005574-1.0.2/derivatives/ecogprep/sub-01/ieeg/sub-01_task-podcast_desc-highgamma_ieeg.fif...\n",
      "    Range : 0 ... 921599 =      0.000 ...  1799.998 secs\n",
      "Ready.\n",
      "Fitting 1 epochs, 99 channels\n"
     ]
    },
    {
     "name": "stderr",
     "output_type": "stream",
     "text": [
      "100%|██████████| Sample : 5049/5049 [00:04<00:00, 1027.39it/s]\n"
     ]
    },
    {
     "name": "stdout",
     "output_type": "stream",
     "text": [
      "α: 100000.0 Test score: 0.0923\n",
      "Fitted model alpha: 100000.0\n",
      "Sub 1 | Testing alpha=1.00e+06\n",
      "Opening raw data file ./ds005574-1.0.2/derivatives/ecogprep/sub-01/ieeg/sub-01_task-podcast_desc-highgamma_ieeg.fif...\n",
      "    Range : 0 ... 921599 =      0.000 ...  1799.998 secs\n",
      "Ready.\n",
      "Fitting 1 epochs, 99 channels\n"
     ]
    },
    {
     "name": "stderr",
     "output_type": "stream",
     "text": [
      "100%|██████████| Sample : 5049/5049 [00:04<00:00, 1029.06it/s]\n"
     ]
    },
    {
     "name": "stdout",
     "output_type": "stream",
     "text": [
      "α: 1000000.0 Test score: 0.0850\n",
      "Fitted model alpha: 1000000.0\n",
      "Sub 1 | Testing alpha=1.00e+07\n",
      "Opening raw data file ./ds005574-1.0.2/derivatives/ecogprep/sub-01/ieeg/sub-01_task-podcast_desc-highgamma_ieeg.fif...\n",
      "    Range : 0 ... 921599 =      0.000 ...  1799.998 secs\n",
      "Ready.\n",
      "Fitting 1 epochs, 99 channels\n"
     ]
    },
    {
     "name": "stderr",
     "output_type": "stream",
     "text": [
      "100%|██████████| Sample : 5049/5049 [00:04<00:00, 1053.24it/s]\n"
     ]
    },
    {
     "name": "stdout",
     "output_type": "stream",
     "text": [
      "α: 10000000.0 Test score: 0.0698\n",
      "Fitted model alpha: 10000000.0\n",
      "Sub 1 | Testing alpha=1.00e+08\n",
      "Opening raw data file ./ds005574-1.0.2/derivatives/ecogprep/sub-01/ieeg/sub-01_task-podcast_desc-highgamma_ieeg.fif...\n",
      "    Range : 0 ... 921599 =      0.000 ...  1799.998 secs\n",
      "Ready.\n",
      "Fitting 1 epochs, 99 channels\n"
     ]
    },
    {
     "name": "stderr",
     "output_type": "stream",
     "text": [
      "100%|██████████| Sample : 5049/5049 [00:04<00:00, 1054.48it/s]\n"
     ]
    },
    {
     "name": "stdout",
     "output_type": "stream",
     "text": [
      "α: 100000000.0 Test score: 0.0635\n",
      "Fitted model alpha: 100000000.0\n",
      "Sub 2 | Testing alpha=1.00e-01\n",
      "Opening raw data file ./ds005574-1.0.2/derivatives/ecogprep/sub-02/ieeg/sub-02_task-podcast_desc-highgamma_ieeg.fif...\n",
      "    Range : 0 ... 921599 =      0.000 ...  1799.998 secs\n",
      "Ready.\n",
      "Fitting 1 epochs, 90 channels\n"
     ]
    },
    {
     "name": "stderr",
     "output_type": "stream",
     "text": [
      "100%|██████████| Sample : 4185/4185 [00:04<00:00, 1007.68it/s]\n"
     ]
    },
    {
     "name": "stdout",
     "output_type": "stream",
     "text": [
      "α: 0.1 Test score: 0.0162\n",
      "Fitted model alpha: 0.1\n",
      "Sub 2 | Testing alpha=1.00e+00\n",
      "Opening raw data file ./ds005574-1.0.2/derivatives/ecogprep/sub-02/ieeg/sub-02_task-podcast_desc-highgamma_ieeg.fif...\n",
      "    Range : 0 ... 921599 =      0.000 ...  1799.998 secs\n",
      "Ready.\n",
      "Fitting 1 epochs, 90 channels\n"
     ]
    },
    {
     "name": "stderr",
     "output_type": "stream",
     "text": [
      "100%|██████████| Sample : 4185/4185 [00:04<00:00, 1011.38it/s]\n"
     ]
    },
    {
     "name": "stdout",
     "output_type": "stream",
     "text": [
      "α: 1.0 Test score: 0.0162\n",
      "Fitted model alpha: 1.0\n",
      "Sub 2 | Testing alpha=1.00e+01\n",
      "Opening raw data file ./ds005574-1.0.2/derivatives/ecogprep/sub-02/ieeg/sub-02_task-podcast_desc-highgamma_ieeg.fif...\n",
      "    Range : 0 ... 921599 =      0.000 ...  1799.998 secs\n",
      "Ready.\n",
      "Fitting 1 epochs, 90 channels\n"
     ]
    },
    {
     "name": "stderr",
     "output_type": "stream",
     "text": [
      "100%|██████████| Sample : 4185/4185 [00:04<00:00,  998.92it/s]\n"
     ]
    },
    {
     "name": "stdout",
     "output_type": "stream",
     "text": [
      "α: 10.0 Test score: 0.0162\n",
      "Fitted model alpha: 10.0\n",
      "Sub 2 | Testing alpha=1.00e+02\n",
      "Opening raw data file ./ds005574-1.0.2/derivatives/ecogprep/sub-02/ieeg/sub-02_task-podcast_desc-highgamma_ieeg.fif...\n",
      "    Range : 0 ... 921599 =      0.000 ...  1799.998 secs\n",
      "Ready.\n",
      "Fitting 1 epochs, 90 channels\n"
     ]
    },
    {
     "name": "stderr",
     "output_type": "stream",
     "text": [
      "100%|██████████| Sample : 4185/4185 [00:04<00:00, 1002.70it/s]\n"
     ]
    },
    {
     "name": "stdout",
     "output_type": "stream",
     "text": [
      "α: 100.0 Test score: 0.0162\n",
      "Fitted model alpha: 100.0\n",
      "Sub 2 | Testing alpha=1.00e+03\n",
      "Opening raw data file ./ds005574-1.0.2/derivatives/ecogprep/sub-02/ieeg/sub-02_task-podcast_desc-highgamma_ieeg.fif...\n",
      "    Range : 0 ... 921599 =      0.000 ...  1799.998 secs\n",
      "Ready.\n",
      "Fitting 1 epochs, 90 channels\n"
     ]
    },
    {
     "name": "stderr",
     "output_type": "stream",
     "text": [
      "100%|██████████| Sample : 4185/4185 [00:04<00:00,  998.18it/s]\n"
     ]
    },
    {
     "name": "stdout",
     "output_type": "stream",
     "text": [
      "α: 1000.0 Test score: 0.0162\n",
      "Fitted model alpha: 1000.0\n",
      "Sub 2 | Testing alpha=1.00e+04\n",
      "Opening raw data file ./ds005574-1.0.2/derivatives/ecogprep/sub-02/ieeg/sub-02_task-podcast_desc-highgamma_ieeg.fif...\n",
      "    Range : 0 ... 921599 =      0.000 ...  1799.998 secs\n",
      "Ready.\n",
      "Fitting 1 epochs, 90 channels\n"
     ]
    },
    {
     "name": "stderr",
     "output_type": "stream",
     "text": [
      "100%|██████████| Sample : 4185/4185 [00:04<00:00, 1001.96it/s]\n"
     ]
    },
    {
     "name": "stdout",
     "output_type": "stream",
     "text": [
      "α: 10000.0 Test score: 0.0162\n",
      "Fitted model alpha: 10000.0\n",
      "Sub 2 | Testing alpha=1.00e+05\n",
      "Opening raw data file ./ds005574-1.0.2/derivatives/ecogprep/sub-02/ieeg/sub-02_task-podcast_desc-highgamma_ieeg.fif...\n",
      "    Range : 0 ... 921599 =      0.000 ...  1799.998 secs\n",
      "Ready.\n",
      "Fitting 1 epochs, 90 channels\n"
     ]
    },
    {
     "name": "stderr",
     "output_type": "stream",
     "text": [
      "100%|██████████| Sample : 4185/4185 [00:04<00:00,  995.39it/s]\n"
     ]
    },
    {
     "name": "stdout",
     "output_type": "stream",
     "text": [
      "α: 100000.0 Test score: 0.0162\n",
      "Fitted model alpha: 100000.0\n",
      "Sub 2 | Testing alpha=1.00e+06\n",
      "Opening raw data file ./ds005574-1.0.2/derivatives/ecogprep/sub-02/ieeg/sub-02_task-podcast_desc-highgamma_ieeg.fif...\n",
      "    Range : 0 ... 921599 =      0.000 ...  1799.998 secs\n",
      "Ready.\n",
      "Fitting 1 epochs, 90 channels\n"
     ]
    },
    {
     "name": "stderr",
     "output_type": "stream",
     "text": [
      "100%|██████████| Sample : 4185/4185 [00:04<00:00, 1007.40it/s]\n"
     ]
    },
    {
     "name": "stdout",
     "output_type": "stream",
     "text": [
      "α: 1000000.0 Test score: 0.0162\n",
      "Fitted model alpha: 1000000.0\n",
      "Sub 2 | Testing alpha=1.00e+07\n",
      "Opening raw data file ./ds005574-1.0.2/derivatives/ecogprep/sub-02/ieeg/sub-02_task-podcast_desc-highgamma_ieeg.fif...\n",
      "    Range : 0 ... 921599 =      0.000 ...  1799.998 secs\n",
      "Ready.\n",
      "Fitting 1 epochs, 90 channels\n"
     ]
    },
    {
     "name": "stderr",
     "output_type": "stream",
     "text": [
      "100%|██████████| Sample : 4185/4185 [00:04<00:00,  998.04it/s]\n"
     ]
    },
    {
     "name": "stdout",
     "output_type": "stream",
     "text": [
      "α: 10000000.0 Test score: 0.0162\n",
      "Fitted model alpha: 10000000.0\n",
      "Sub 2 | Testing alpha=1.00e+08\n",
      "Opening raw data file ./ds005574-1.0.2/derivatives/ecogprep/sub-02/ieeg/sub-02_task-podcast_desc-highgamma_ieeg.fif...\n",
      "    Range : 0 ... 921599 =      0.000 ...  1799.998 secs\n",
      "Ready.\n",
      "Fitting 1 epochs, 90 channels\n"
     ]
    },
    {
     "name": "stderr",
     "output_type": "stream",
     "text": [
      "100%|██████████| Sample : 4185/4185 [00:04<00:00, 1001.74it/s]\n"
     ]
    },
    {
     "name": "stdout",
     "output_type": "stream",
     "text": [
      "α: 100000000.0 Test score: 0.0162\n",
      "Fitted model alpha: 100000000.0\n",
      "Sub 3 | Testing alpha=1.00e-01\n",
      "Opening raw data file ./ds005574-1.0.2/derivatives/ecogprep/sub-03/ieeg/sub-03_task-podcast_desc-highgamma_ieeg.fif...\n",
      "    Range : 0 ... 921599 =      0.000 ...  1799.998 secs\n",
      "Ready.\n"
     ]
    },
    {
     "name": "stderr",
     "output_type": "stream",
     "text": [
      "/pasteur/appa/homes/hguillau/.local/lib/python3.12/site-packages/mne/decoding/receptive_field.py:514: NearConstantInputWarning: An input array is nearly constant; the computed correlation coefficient may be inaccurate.\n",
      "  return np.array([pearsonr(y_true[:, ii], y[:, ii])[0] for ii in range(y.shape[-1])])\n"
     ]
    },
    {
     "name": "stdout",
     "output_type": "stream",
     "text": [
      "Fitting 1 epochs, 235 channels\n"
     ]
    },
    {
     "name": "stderr",
     "output_type": "stream",
     "text": [
      "100%|██████████| Sample : 27965/27965 [00:21<00:00, 1310.01it/s]\n"
     ]
    },
    {
     "name": "stdout",
     "output_type": "stream",
     "text": [
      "α: 0.1 Test score: 0.0385\n",
      "Fitted model alpha: 0.1\n",
      "Sub 3 | Testing alpha=1.00e+00\n",
      "Opening raw data file ./ds005574-1.0.2/derivatives/ecogprep/sub-03/ieeg/sub-03_task-podcast_desc-highgamma_ieeg.fif...\n",
      "    Range : 0 ... 921599 =      0.000 ...  1799.998 secs\n",
      "Ready.\n",
      "Fitting 1 epochs, 235 channels\n"
     ]
    },
    {
     "name": "stderr",
     "output_type": "stream",
     "text": [
      "100%|██████████| Sample : 27965/27965 [00:21<00:00, 1320.78it/s]\n"
     ]
    },
    {
     "name": "stdout",
     "output_type": "stream",
     "text": [
      "α: 1.0 Test score: 0.0385\n",
      "Fitted model alpha: 1.0\n",
      "Sub 3 | Testing alpha=1.00e+01\n",
      "Opening raw data file ./ds005574-1.0.2/derivatives/ecogprep/sub-03/ieeg/sub-03_task-podcast_desc-highgamma_ieeg.fif...\n",
      "    Range : 0 ... 921599 =      0.000 ...  1799.998 secs\n",
      "Ready.\n",
      "Fitting 1 epochs, 235 channels\n"
     ]
    },
    {
     "name": "stderr",
     "output_type": "stream",
     "text": [
      "100%|██████████| Sample : 27965/27965 [00:21<00:00, 1323.27it/s]\n"
     ]
    },
    {
     "name": "stdout",
     "output_type": "stream",
     "text": [
      "α: 10.0 Test score: 0.0385\n",
      "Fitted model alpha: 10.0\n",
      "Sub 3 | Testing alpha=1.00e+02\n",
      "Opening raw data file ./ds005574-1.0.2/derivatives/ecogprep/sub-03/ieeg/sub-03_task-podcast_desc-highgamma_ieeg.fif...\n",
      "    Range : 0 ... 921599 =      0.000 ...  1799.998 secs\n",
      "Ready.\n",
      "Fitting 1 epochs, 235 channels\n"
     ]
    },
    {
     "name": "stderr",
     "output_type": "stream",
     "text": [
      "100%|██████████| Sample : 27965/27965 [00:21<00:00, 1323.89it/s]\n"
     ]
    },
    {
     "name": "stdout",
     "output_type": "stream",
     "text": [
      "α: 100.0 Test score: 0.0385\n",
      "Fitted model alpha: 100.0\n",
      "Sub 3 | Testing alpha=1.00e+03\n",
      "Opening raw data file ./ds005574-1.0.2/derivatives/ecogprep/sub-03/ieeg/sub-03_task-podcast_desc-highgamma_ieeg.fif...\n",
      "    Range : 0 ... 921599 =      0.000 ...  1799.998 secs\n",
      "Ready.\n",
      "Fitting 1 epochs, 235 channels\n"
     ]
    },
    {
     "name": "stderr",
     "output_type": "stream",
     "text": [
      "100%|██████████| Sample : 27965/27965 [00:21<00:00, 1323.30it/s]\n"
     ]
    },
    {
     "name": "stdout",
     "output_type": "stream",
     "text": [
      "α: 1000.0 Test score: 0.0385\n",
      "Fitted model alpha: 1000.0\n",
      "Sub 3 | Testing alpha=1.00e+04\n",
      "Opening raw data file ./ds005574-1.0.2/derivatives/ecogprep/sub-03/ieeg/sub-03_task-podcast_desc-highgamma_ieeg.fif...\n",
      "    Range : 0 ... 921599 =      0.000 ...  1799.998 secs\n",
      "Ready.\n",
      "Fitting 1 epochs, 235 channels\n"
     ]
    },
    {
     "name": "stderr",
     "output_type": "stream",
     "text": [
      "100%|██████████| Sample : 27965/27965 [00:21<00:00, 1319.90it/s]\n"
     ]
    },
    {
     "name": "stdout",
     "output_type": "stream",
     "text": [
      "α: 10000.0 Test score: 0.0385\n",
      "Fitted model alpha: 10000.0\n",
      "Sub 3 | Testing alpha=1.00e+05\n",
      "Opening raw data file ./ds005574-1.0.2/derivatives/ecogprep/sub-03/ieeg/sub-03_task-podcast_desc-highgamma_ieeg.fif...\n",
      "    Range : 0 ... 921599 =      0.000 ...  1799.998 secs\n",
      "Ready.\n",
      "Fitting 1 epochs, 235 channels\n"
     ]
    },
    {
     "name": "stderr",
     "output_type": "stream",
     "text": [
      "100%|██████████| Sample : 27965/27965 [00:21<00:00, 1322.23it/s]\n"
     ]
    },
    {
     "name": "stdout",
     "output_type": "stream",
     "text": [
      "α: 100000.0 Test score: 0.0385\n",
      "Fitted model alpha: 100000.0\n",
      "Sub 3 | Testing alpha=1.00e+06\n",
      "Opening raw data file ./ds005574-1.0.2/derivatives/ecogprep/sub-03/ieeg/sub-03_task-podcast_desc-highgamma_ieeg.fif...\n",
      "    Range : 0 ... 921599 =      0.000 ...  1799.998 secs\n",
      "Ready.\n",
      "Fitting 1 epochs, 235 channels\n"
     ]
    },
    {
     "name": "stderr",
     "output_type": "stream",
     "text": [
      "100%|██████████| Sample : 27965/27965 [00:21<00:00, 1321.19it/s]\n"
     ]
    },
    {
     "name": "stdout",
     "output_type": "stream",
     "text": [
      "α: 1000000.0 Test score: 0.0385\n",
      "Fitted model alpha: 1000000.0\n",
      "Sub 3 | Testing alpha=1.00e+07\n",
      "Opening raw data file ./ds005574-1.0.2/derivatives/ecogprep/sub-03/ieeg/sub-03_task-podcast_desc-highgamma_ieeg.fif...\n",
      "    Range : 0 ... 921599 =      0.000 ...  1799.998 secs\n",
      "Ready.\n",
      "Fitting 1 epochs, 235 channels\n"
     ]
    },
    {
     "name": "stderr",
     "output_type": "stream",
     "text": [
      "100%|██████████| Sample : 27965/27965 [00:20<00:00, 1333.29it/s]\n"
     ]
    },
    {
     "name": "stdout",
     "output_type": "stream",
     "text": [
      "α: 10000000.0 Test score: 0.0385\n",
      "Fitted model alpha: 10000000.0\n",
      "Sub 3 | Testing alpha=1.00e+08\n",
      "Opening raw data file ./ds005574-1.0.2/derivatives/ecogprep/sub-03/ieeg/sub-03_task-podcast_desc-highgamma_ieeg.fif...\n",
      "    Range : 0 ... 921599 =      0.000 ...  1799.998 secs\n",
      "Ready.\n",
      "Fitting 1 epochs, 235 channels\n"
     ]
    },
    {
     "name": "stderr",
     "output_type": "stream",
     "text": [
      "100%|██████████| Sample : 27965/27965 [00:19<00:00, 1405.05it/s]\n"
     ]
    },
    {
     "name": "stdout",
     "output_type": "stream",
     "text": [
      "α: 100000000.0 Test score: 0.0385\n",
      "Fitted model alpha: 100000000.0\n",
      "Sub 4 | Testing alpha=1.00e-01\n",
      "Opening raw data file ./ds005574-1.0.2/derivatives/ecogprep/sub-04/ieeg/sub-04_task-podcast_desc-highgamma_ieeg.fif...\n",
      "    Range : 0 ... 921599 =      0.000 ...  1799.998 secs\n",
      "Ready.\n",
      "Fitting 1 epochs, 143 channels\n"
     ]
    },
    {
     "name": "stderr",
     "output_type": "stream",
     "text": [
      "100%|██████████| Sample : 10439/10439 [00:08<00:00, 1240.36it/s]\n"
     ]
    },
    {
     "name": "stdout",
     "output_type": "stream",
     "text": [
      "α: 0.1 Test score: 0.0651\n",
      "Fitted model alpha: 0.1\n",
      "Sub 4 | Testing alpha=1.00e+00\n",
      "Opening raw data file ./ds005574-1.0.2/derivatives/ecogprep/sub-04/ieeg/sub-04_task-podcast_desc-highgamma_ieeg.fif...\n",
      "    Range : 0 ... 921599 =      0.000 ...  1799.998 secs\n",
      "Ready.\n",
      "Fitting 1 epochs, 143 channels\n"
     ]
    },
    {
     "name": "stderr",
     "output_type": "stream",
     "text": [
      "100%|██████████| Sample : 10439/10439 [00:08<00:00, 1184.66it/s]\n"
     ]
    },
    {
     "name": "stdout",
     "output_type": "stream",
     "text": [
      "α: 1.0 Test score: 0.0651\n",
      "Fitted model alpha: 1.0\n",
      "Sub 4 | Testing alpha=1.00e+01\n",
      "Opening raw data file ./ds005574-1.0.2/derivatives/ecogprep/sub-04/ieeg/sub-04_task-podcast_desc-highgamma_ieeg.fif...\n",
      "    Range : 0 ... 921599 =      0.000 ...  1799.998 secs\n",
      "Ready.\n",
      "Fitting 1 epochs, 143 channels\n"
     ]
    },
    {
     "name": "stderr",
     "output_type": "stream",
     "text": [
      "100%|██████████| Sample : 10439/10439 [00:08<00:00, 1202.82it/s]\n"
     ]
    },
    {
     "name": "stdout",
     "output_type": "stream",
     "text": [
      "α: 10.0 Test score: 0.0651\n",
      "Fitted model alpha: 10.0\n",
      "Sub 4 | Testing alpha=1.00e+02\n",
      "Opening raw data file ./ds005574-1.0.2/derivatives/ecogprep/sub-04/ieeg/sub-04_task-podcast_desc-highgamma_ieeg.fif...\n",
      "    Range : 0 ... 921599 =      0.000 ...  1799.998 secs\n",
      "Ready.\n",
      "Fitting 1 epochs, 143 channels\n"
     ]
    },
    {
     "name": "stderr",
     "output_type": "stream",
     "text": [
      "100%|██████████| Sample : 10439/10439 [00:08<00:00, 1213.35it/s]\n"
     ]
    },
    {
     "name": "stdout",
     "output_type": "stream",
     "text": [
      "α: 100.0 Test score: 0.0651\n",
      "Fitted model alpha: 100.0\n",
      "Sub 4 | Testing alpha=1.00e+03\n",
      "Opening raw data file ./ds005574-1.0.2/derivatives/ecogprep/sub-04/ieeg/sub-04_task-podcast_desc-highgamma_ieeg.fif...\n",
      "    Range : 0 ... 921599 =      0.000 ...  1799.998 secs\n",
      "Ready.\n",
      "Fitting 1 epochs, 143 channels\n"
     ]
    },
    {
     "name": "stderr",
     "output_type": "stream",
     "text": [
      "100%|██████████| Sample : 10439/10439 [00:08<00:00, 1206.86it/s]\n"
     ]
    },
    {
     "name": "stdout",
     "output_type": "stream",
     "text": [
      "α: 1000.0 Test score: 0.0651\n",
      "Fitted model alpha: 1000.0\n",
      "Sub 4 | Testing alpha=1.00e+04\n",
      "Opening raw data file ./ds005574-1.0.2/derivatives/ecogprep/sub-04/ieeg/sub-04_task-podcast_desc-highgamma_ieeg.fif...\n",
      "    Range : 0 ... 921599 =      0.000 ...  1799.998 secs\n",
      "Ready.\n",
      "Fitting 1 epochs, 143 channels\n"
     ]
    },
    {
     "name": "stderr",
     "output_type": "stream",
     "text": [
      "100%|██████████| Sample : 10439/10439 [00:08<00:00, 1199.71it/s]\n"
     ]
    },
    {
     "name": "stdout",
     "output_type": "stream",
     "text": [
      "α: 10000.0 Test score: 0.0651\n",
      "Fitted model alpha: 10000.0\n",
      "Sub 4 | Testing alpha=1.00e+05\n",
      "Opening raw data file ./ds005574-1.0.2/derivatives/ecogprep/sub-04/ieeg/sub-04_task-podcast_desc-highgamma_ieeg.fif...\n",
      "    Range : 0 ... 921599 =      0.000 ...  1799.998 secs\n",
      "Ready.\n",
      "Fitting 1 epochs, 143 channels\n"
     ]
    },
    {
     "name": "stderr",
     "output_type": "stream",
     "text": [
      "100%|██████████| Sample : 10439/10439 [00:08<00:00, 1179.48it/s]\n"
     ]
    },
    {
     "name": "stdout",
     "output_type": "stream",
     "text": [
      "α: 100000.0 Test score: 0.0651\n",
      "Fitted model alpha: 100000.0\n",
      "Sub 4 | Testing alpha=1.00e+06\n",
      "Opening raw data file ./ds005574-1.0.2/derivatives/ecogprep/sub-04/ieeg/sub-04_task-podcast_desc-highgamma_ieeg.fif...\n",
      "    Range : 0 ... 921599 =      0.000 ...  1799.998 secs\n",
      "Ready.\n",
      "Fitting 1 epochs, 143 channels\n"
     ]
    },
    {
     "name": "stderr",
     "output_type": "stream",
     "text": [
      "100%|██████████| Sample : 10439/10439 [00:08<00:00, 1173.36it/s]\n"
     ]
    },
    {
     "name": "stdout",
     "output_type": "stream",
     "text": [
      "α: 1000000.0 Test score: 0.0651\n",
      "Fitted model alpha: 1000000.0\n",
      "Sub 4 | Testing alpha=1.00e+07\n",
      "Opening raw data file ./ds005574-1.0.2/derivatives/ecogprep/sub-04/ieeg/sub-04_task-podcast_desc-highgamma_ieeg.fif...\n",
      "    Range : 0 ... 921599 =      0.000 ...  1799.998 secs\n",
      "Ready.\n",
      "Fitting 1 epochs, 143 channels\n"
     ]
    },
    {
     "name": "stderr",
     "output_type": "stream",
     "text": [
      "100%|██████████| Sample : 10439/10439 [00:08<00:00, 1164.56it/s]\n"
     ]
    },
    {
     "name": "stdout",
     "output_type": "stream",
     "text": [
      "α: 10000000.0 Test score: 0.0651\n",
      "Fitted model alpha: 10000000.0\n",
      "Sub 4 | Testing alpha=1.00e+08\n",
      "Opening raw data file ./ds005574-1.0.2/derivatives/ecogprep/sub-04/ieeg/sub-04_task-podcast_desc-highgamma_ieeg.fif...\n",
      "    Range : 0 ... 921599 =      0.000 ...  1799.998 secs\n",
      "Ready.\n",
      "Fitting 1 epochs, 143 channels\n"
     ]
    },
    {
     "name": "stderr",
     "output_type": "stream",
     "text": [
      "100%|██████████| Sample : 10439/10439 [00:08<00:00, 1184.95it/s]\n"
     ]
    },
    {
     "name": "stdout",
     "output_type": "stream",
     "text": [
      "α: 100000000.0 Test score: 0.0651\n",
      "Fitted model alpha: 100000000.0\n",
      "Sub 5 | Testing alpha=1.00e-01\n",
      "Opening raw data file ./ds005574-1.0.2/derivatives/ecogprep/sub-05/ieeg/sub-05_task-podcast_desc-highgamma_ieeg.fif...\n",
      "    Range : 0 ... 921599 =      0.000 ...  1799.998 secs\n",
      "Ready.\n",
      "Fitting 1 epochs, 159 channels\n"
     ]
    },
    {
     "name": "stderr",
     "output_type": "stream",
     "text": [
      "100%|██████████| Sample : 12879/12879 [00:09<00:00, 1293.14it/s]\n"
     ]
    },
    {
     "name": "stdout",
     "output_type": "stream",
     "text": [
      "α: 0.1 Test score: 0.0082\n",
      "Fitted model alpha: 0.1\n",
      "Sub 5 | Testing alpha=1.00e+00\n",
      "Opening raw data file ./ds005574-1.0.2/derivatives/ecogprep/sub-05/ieeg/sub-05_task-podcast_desc-highgamma_ieeg.fif...\n",
      "    Range : 0 ... 921599 =      0.000 ...  1799.998 secs\n",
      "Ready.\n",
      "Fitting 1 epochs, 159 channels\n"
     ]
    },
    {
     "name": "stderr",
     "output_type": "stream",
     "text": [
      "100%|██████████| Sample : 12879/12879 [00:09<00:00, 1288.69it/s]\n"
     ]
    },
    {
     "name": "stdout",
     "output_type": "stream",
     "text": [
      "α: 1.0 Test score: 0.0082\n",
      "Fitted model alpha: 1.0\n",
      "Sub 5 | Testing alpha=1.00e+01\n",
      "Opening raw data file ./ds005574-1.0.2/derivatives/ecogprep/sub-05/ieeg/sub-05_task-podcast_desc-highgamma_ieeg.fif...\n",
      "    Range : 0 ... 921599 =      0.000 ...  1799.998 secs\n",
      "Ready.\n",
      "Fitting 1 epochs, 159 channels\n"
     ]
    },
    {
     "name": "stderr",
     "output_type": "stream",
     "text": [
      "100%|██████████| Sample : 12879/12879 [00:09<00:00, 1294.21it/s]\n"
     ]
    },
    {
     "name": "stdout",
     "output_type": "stream",
     "text": [
      "α: 10.0 Test score: 0.0082\n",
      "Fitted model alpha: 10.0\n",
      "Sub 5 | Testing alpha=1.00e+02\n",
      "Opening raw data file ./ds005574-1.0.2/derivatives/ecogprep/sub-05/ieeg/sub-05_task-podcast_desc-highgamma_ieeg.fif...\n",
      "    Range : 0 ... 921599 =      0.000 ...  1799.998 secs\n",
      "Ready.\n",
      "Fitting 1 epochs, 159 channels\n"
     ]
    },
    {
     "name": "stderr",
     "output_type": "stream",
     "text": [
      "100%|██████████| Sample : 12879/12879 [00:09<00:00, 1294.01it/s]\n"
     ]
    },
    {
     "name": "stdout",
     "output_type": "stream",
     "text": [
      "α: 100.0 Test score: 0.0082\n",
      "Fitted model alpha: 100.0\n",
      "Sub 5 | Testing alpha=1.00e+03\n",
      "Opening raw data file ./ds005574-1.0.2/derivatives/ecogprep/sub-05/ieeg/sub-05_task-podcast_desc-highgamma_ieeg.fif...\n",
      "    Range : 0 ... 921599 =      0.000 ...  1799.998 secs\n",
      "Ready.\n",
      "Fitting 1 epochs, 159 channels\n"
     ]
    },
    {
     "name": "stderr",
     "output_type": "stream",
     "text": [
      "100%|██████████| Sample : 12879/12879 [00:09<00:00, 1331.99it/s]\n"
     ]
    },
    {
     "name": "stdout",
     "output_type": "stream",
     "text": [
      "α: 1000.0 Test score: 0.0082\n",
      "Fitted model alpha: 1000.0\n",
      "Sub 5 | Testing alpha=1.00e+04\n",
      "Opening raw data file ./ds005574-1.0.2/derivatives/ecogprep/sub-05/ieeg/sub-05_task-podcast_desc-highgamma_ieeg.fif...\n",
      "    Range : 0 ... 921599 =      0.000 ...  1799.998 secs\n",
      "Ready.\n",
      "Fitting 1 epochs, 159 channels\n"
     ]
    },
    {
     "name": "stderr",
     "output_type": "stream",
     "text": [
      "100%|██████████| Sample : 12879/12879 [00:09<00:00, 1378.14it/s]\n"
     ]
    },
    {
     "name": "stdout",
     "output_type": "stream",
     "text": [
      "α: 10000.0 Test score: 0.0082\n",
      "Fitted model alpha: 10000.0\n",
      "Sub 5 | Testing alpha=1.00e+05\n",
      "Opening raw data file ./ds005574-1.0.2/derivatives/ecogprep/sub-05/ieeg/sub-05_task-podcast_desc-highgamma_ieeg.fif...\n",
      "    Range : 0 ... 921599 =      0.000 ...  1799.998 secs\n",
      "Ready.\n",
      "Fitting 1 epochs, 159 channels\n"
     ]
    },
    {
     "name": "stderr",
     "output_type": "stream",
     "text": [
      "100%|██████████| Sample : 12879/12879 [00:09<00:00, 1379.78it/s]\n"
     ]
    },
    {
     "name": "stdout",
     "output_type": "stream",
     "text": [
      "α: 100000.0 Test score: 0.0082\n",
      "Fitted model alpha: 100000.0\n",
      "Sub 5 | Testing alpha=1.00e+06\n",
      "Opening raw data file ./ds005574-1.0.2/derivatives/ecogprep/sub-05/ieeg/sub-05_task-podcast_desc-highgamma_ieeg.fif...\n",
      "    Range : 0 ... 921599 =      0.000 ...  1799.998 secs\n",
      "Ready.\n",
      "Fitting 1 epochs, 159 channels\n"
     ]
    },
    {
     "name": "stderr",
     "output_type": "stream",
     "text": [
      "100%|██████████| Sample : 12879/12879 [00:09<00:00, 1382.54it/s]\n"
     ]
    },
    {
     "name": "stdout",
     "output_type": "stream",
     "text": [
      "α: 1000000.0 Test score: 0.0082\n",
      "Fitted model alpha: 1000000.0\n",
      "Sub 5 | Testing alpha=1.00e+07\n",
      "Opening raw data file ./ds005574-1.0.2/derivatives/ecogprep/sub-05/ieeg/sub-05_task-podcast_desc-highgamma_ieeg.fif...\n",
      "    Range : 0 ... 921599 =      0.000 ...  1799.998 secs\n",
      "Ready.\n",
      "Fitting 1 epochs, 159 channels\n"
     ]
    },
    {
     "name": "stderr",
     "output_type": "stream",
     "text": [
      "100%|██████████| Sample : 12879/12879 [00:09<00:00, 1381.87it/s]\n"
     ]
    },
    {
     "name": "stdout",
     "output_type": "stream",
     "text": [
      "α: 10000000.0 Test score: 0.0082\n",
      "Fitted model alpha: 10000000.0\n",
      "Sub 5 | Testing alpha=1.00e+08\n",
      "Opening raw data file ./ds005574-1.0.2/derivatives/ecogprep/sub-05/ieeg/sub-05_task-podcast_desc-highgamma_ieeg.fif...\n",
      "    Range : 0 ... 921599 =      0.000 ...  1799.998 secs\n",
      "Ready.\n",
      "Fitting 1 epochs, 159 channels\n"
     ]
    },
    {
     "name": "stderr",
     "output_type": "stream",
     "text": [
      "100%|██████████| Sample : 12879/12879 [00:09<00:00, 1362.18it/s]\n"
     ]
    },
    {
     "name": "stdout",
     "output_type": "stream",
     "text": [
      "α: 100000000.0 Test score: 0.0082\n",
      "Fitted model alpha: 100000000.0\n",
      "Sub 6 | Testing alpha=1.00e-01\n",
      "Opening raw data file ./ds005574-1.0.2/derivatives/ecogprep/sub-06/ieeg/sub-06_task-podcast_desc-highgamma_ieeg.fif...\n",
      "    Range : 0 ... 921599 =      0.000 ...  1799.998 secs\n",
      "Ready.\n",
      "Fitting 1 epochs, 166 channels\n"
     ]
    },
    {
     "name": "stderr",
     "output_type": "stream",
     "text": [
      "100%|██████████| Sample : 14027/14027 [00:09<00:00, 1404.32it/s]\n"
     ]
    },
    {
     "name": "stdout",
     "output_type": "stream",
     "text": [
      "α: 0.1 Test score: 0.0908\n",
      "Fitted model alpha: 0.1\n",
      "Sub 6 | Testing alpha=1.00e+00\n",
      "Opening raw data file ./ds005574-1.0.2/derivatives/ecogprep/sub-06/ieeg/sub-06_task-podcast_desc-highgamma_ieeg.fif...\n",
      "    Range : 0 ... 921599 =      0.000 ...  1799.998 secs\n",
      "Ready.\n",
      "Fitting 1 epochs, 166 channels\n"
     ]
    },
    {
     "name": "stderr",
     "output_type": "stream",
     "text": [
      "100%|██████████| Sample : 14027/14027 [00:09<00:00, 1405.77it/s]\n"
     ]
    },
    {
     "name": "stdout",
     "output_type": "stream",
     "text": [
      "α: 1.0 Test score: 0.0908\n",
      "Fitted model alpha: 1.0\n",
      "Sub 6 | Testing alpha=1.00e+01\n",
      "Opening raw data file ./ds005574-1.0.2/derivatives/ecogprep/sub-06/ieeg/sub-06_task-podcast_desc-highgamma_ieeg.fif...\n",
      "    Range : 0 ... 921599 =      0.000 ...  1799.998 secs\n",
      "Ready.\n",
      "Fitting 1 epochs, 166 channels\n"
     ]
    },
    {
     "name": "stderr",
     "output_type": "stream",
     "text": [
      "100%|██████████| Sample : 14027/14027 [00:10<00:00, 1383.22it/s]\n"
     ]
    },
    {
     "name": "stdout",
     "output_type": "stream",
     "text": [
      "α: 10.0 Test score: 0.0908\n",
      "Fitted model alpha: 10.0\n",
      "Sub 6 | Testing alpha=1.00e+02\n",
      "Opening raw data file ./ds005574-1.0.2/derivatives/ecogprep/sub-06/ieeg/sub-06_task-podcast_desc-highgamma_ieeg.fif...\n",
      "    Range : 0 ... 921599 =      0.000 ...  1799.998 secs\n",
      "Ready.\n",
      "Fitting 1 epochs, 166 channels\n"
     ]
    },
    {
     "name": "stderr",
     "output_type": "stream",
     "text": [
      "100%|██████████| Sample : 14027/14027 [00:10<00:00, 1390.61it/s]\n"
     ]
    },
    {
     "name": "stdout",
     "output_type": "stream",
     "text": [
      "α: 100.0 Test score: 0.0908\n",
      "Fitted model alpha: 100.0\n",
      "Sub 6 | Testing alpha=1.00e+03\n",
      "Opening raw data file ./ds005574-1.0.2/derivatives/ecogprep/sub-06/ieeg/sub-06_task-podcast_desc-highgamma_ieeg.fif...\n",
      "    Range : 0 ... 921599 =      0.000 ...  1799.998 secs\n",
      "Ready.\n",
      "Fitting 1 epochs, 166 channels\n"
     ]
    },
    {
     "name": "stderr",
     "output_type": "stream",
     "text": [
      "100%|██████████| Sample : 14027/14027 [00:09<00:00, 1418.17it/s]\n"
     ]
    },
    {
     "name": "stdout",
     "output_type": "stream",
     "text": [
      "α: 1000.0 Test score: 0.0908\n",
      "Fitted model alpha: 1000.0\n",
      "Sub 6 | Testing alpha=1.00e+04\n",
      "Opening raw data file ./ds005574-1.0.2/derivatives/ecogprep/sub-06/ieeg/sub-06_task-podcast_desc-highgamma_ieeg.fif...\n",
      "    Range : 0 ... 921599 =      0.000 ...  1799.998 secs\n",
      "Ready.\n",
      "Fitting 1 epochs, 166 channels\n"
     ]
    },
    {
     "name": "stderr",
     "output_type": "stream",
     "text": [
      "100%|██████████| Sample : 14027/14027 [00:09<00:00, 1417.67it/s]\n"
     ]
    },
    {
     "name": "stdout",
     "output_type": "stream",
     "text": [
      "α: 10000.0 Test score: 0.0908\n",
      "Fitted model alpha: 10000.0\n",
      "Sub 6 | Testing alpha=1.00e+05\n",
      "Opening raw data file ./ds005574-1.0.2/derivatives/ecogprep/sub-06/ieeg/sub-06_task-podcast_desc-highgamma_ieeg.fif...\n",
      "    Range : 0 ... 921599 =      0.000 ...  1799.998 secs\n",
      "Ready.\n",
      "Fitting 1 epochs, 166 channels\n"
     ]
    },
    {
     "name": "stderr",
     "output_type": "stream",
     "text": [
      "100%|██████████| Sample : 14027/14027 [00:09<00:00, 1433.95it/s]\n"
     ]
    },
    {
     "name": "stdout",
     "output_type": "stream",
     "text": [
      "α: 100000.0 Test score: 0.0908\n",
      "Fitted model alpha: 100000.0\n",
      "Sub 6 | Testing alpha=1.00e+06\n",
      "Opening raw data file ./ds005574-1.0.2/derivatives/ecogprep/sub-06/ieeg/sub-06_task-podcast_desc-highgamma_ieeg.fif...\n",
      "    Range : 0 ... 921599 =      0.000 ...  1799.998 secs\n",
      "Ready.\n",
      "Fitting 1 epochs, 166 channels\n"
     ]
    },
    {
     "name": "stderr",
     "output_type": "stream",
     "text": [
      "100%|██████████| Sample : 14027/14027 [00:09<00:00, 1433.92it/s]\n"
     ]
    },
    {
     "name": "stdout",
     "output_type": "stream",
     "text": [
      "α: 1000000.0 Test score: 0.0908\n",
      "Fitted model alpha: 1000000.0\n",
      "Sub 6 | Testing alpha=1.00e+07\n",
      "Opening raw data file ./ds005574-1.0.2/derivatives/ecogprep/sub-06/ieeg/sub-06_task-podcast_desc-highgamma_ieeg.fif...\n",
      "    Range : 0 ... 921599 =      0.000 ...  1799.998 secs\n",
      "Ready.\n",
      "Fitting 1 epochs, 166 channels\n"
     ]
    },
    {
     "name": "stderr",
     "output_type": "stream",
     "text": [
      "100%|██████████| Sample : 14027/14027 [00:09<00:00, 1480.72it/s]\n"
     ]
    },
    {
     "name": "stdout",
     "output_type": "stream",
     "text": [
      "α: 10000000.0 Test score: 0.0908\n",
      "Fitted model alpha: 10000000.0\n",
      "Sub 6 | Testing alpha=1.00e+08\n",
      "Opening raw data file ./ds005574-1.0.2/derivatives/ecogprep/sub-06/ieeg/sub-06_task-podcast_desc-highgamma_ieeg.fif...\n",
      "    Range : 0 ... 921599 =      0.000 ...  1799.998 secs\n",
      "Ready.\n",
      "Fitting 1 epochs, 166 channels\n"
     ]
    },
    {
     "name": "stderr",
     "output_type": "stream",
     "text": [
      "100%|██████████| Sample : 14027/14027 [00:09<00:00, 1407.53it/s]\n"
     ]
    },
    {
     "name": "stdout",
     "output_type": "stream",
     "text": [
      "α: 100000000.0 Test score: 0.0908\n",
      "Fitted model alpha: 100000000.0\n",
      "Sub 7 | Testing alpha=1.00e-01\n",
      "Opening raw data file ./ds005574-1.0.2/derivatives/ecogprep/sub-07/ieeg/sub-07_task-podcast_desc-highgamma_ieeg.fif...\n",
      "    Range : 0 ... 921599 =      0.000 ...  1799.998 secs\n",
      "Ready.\n",
      "Fitting 1 epochs, 116 channels\n"
     ]
    },
    {
     "name": "stderr",
     "output_type": "stream",
     "text": [
      "100%|██████████| Sample : 6902/6902 [00:06<00:00, 1133.87it/s]\n"
     ]
    },
    {
     "name": "stdout",
     "output_type": "stream",
     "text": [
      "α: 0.1 Test score: 0.1007\n",
      "Fitted model alpha: 0.1\n",
      "Sub 7 | Testing alpha=1.00e+00\n",
      "Opening raw data file ./ds005574-1.0.2/derivatives/ecogprep/sub-07/ieeg/sub-07_task-podcast_desc-highgamma_ieeg.fif...\n",
      "    Range : 0 ... 921599 =      0.000 ...  1799.998 secs\n",
      "Ready.\n",
      "Fitting 1 epochs, 116 channels\n"
     ]
    },
    {
     "name": "stderr",
     "output_type": "stream",
     "text": [
      "100%|██████████| Sample : 6902/6902 [00:05<00:00, 1163.52it/s]\n"
     ]
    },
    {
     "name": "stdout",
     "output_type": "stream",
     "text": [
      "α: 1.0 Test score: 0.1007\n",
      "Fitted model alpha: 1.0\n",
      "Sub 7 | Testing alpha=1.00e+01\n",
      "Opening raw data file ./ds005574-1.0.2/derivatives/ecogprep/sub-07/ieeg/sub-07_task-podcast_desc-highgamma_ieeg.fif...\n",
      "    Range : 0 ... 921599 =      0.000 ...  1799.998 secs\n",
      "Ready.\n",
      "Fitting 1 epochs, 116 channels\n"
     ]
    },
    {
     "name": "stderr",
     "output_type": "stream",
     "text": [
      "100%|██████████| Sample : 6902/6902 [00:05<00:00, 1159.53it/s]\n"
     ]
    },
    {
     "name": "stdout",
     "output_type": "stream",
     "text": [
      "α: 10.0 Test score: 0.1007\n",
      "Fitted model alpha: 10.0\n",
      "Sub 7 | Testing alpha=1.00e+02\n",
      "Opening raw data file ./ds005574-1.0.2/derivatives/ecogprep/sub-07/ieeg/sub-07_task-podcast_desc-highgamma_ieeg.fif...\n",
      "    Range : 0 ... 921599 =      0.000 ...  1799.998 secs\n",
      "Ready.\n",
      "Fitting 1 epochs, 116 channels\n"
     ]
    },
    {
     "name": "stderr",
     "output_type": "stream",
     "text": [
      "100%|██████████| Sample : 6902/6902 [00:05<00:00, 1163.71it/s]\n"
     ]
    },
    {
     "name": "stdout",
     "output_type": "stream",
     "text": [
      "α: 100.0 Test score: 0.1007\n",
      "Fitted model alpha: 100.0\n",
      "Sub 7 | Testing alpha=1.00e+03\n",
      "Opening raw data file ./ds005574-1.0.2/derivatives/ecogprep/sub-07/ieeg/sub-07_task-podcast_desc-highgamma_ieeg.fif...\n",
      "    Range : 0 ... 921599 =      0.000 ...  1799.998 secs\n",
      "Ready.\n",
      "Fitting 1 epochs, 116 channels\n"
     ]
    },
    {
     "name": "stderr",
     "output_type": "stream",
     "text": [
      "100%|██████████| Sample : 6902/6902 [00:05<00:00, 1159.10it/s]\n"
     ]
    },
    {
     "name": "stdout",
     "output_type": "stream",
     "text": [
      "α: 1000.0 Test score: 0.1007\n",
      "Fitted model alpha: 1000.0\n",
      "Sub 7 | Testing alpha=1.00e+04\n",
      "Opening raw data file ./ds005574-1.0.2/derivatives/ecogprep/sub-07/ieeg/sub-07_task-podcast_desc-highgamma_ieeg.fif...\n",
      "    Range : 0 ... 921599 =      0.000 ...  1799.998 secs\n",
      "Ready.\n",
      "Fitting 1 epochs, 116 channels\n"
     ]
    },
    {
     "name": "stderr",
     "output_type": "stream",
     "text": [
      "100%|██████████| Sample : 6902/6902 [00:05<00:00, 1170.91it/s]\n"
     ]
    },
    {
     "name": "stdout",
     "output_type": "stream",
     "text": [
      "α: 10000.0 Test score: 0.1007\n",
      "Fitted model alpha: 10000.0\n",
      "Sub 7 | Testing alpha=1.00e+05\n",
      "Opening raw data file ./ds005574-1.0.2/derivatives/ecogprep/sub-07/ieeg/sub-07_task-podcast_desc-highgamma_ieeg.fif...\n",
      "    Range : 0 ... 921599 =      0.000 ...  1799.998 secs\n",
      "Ready.\n",
      "Fitting 1 epochs, 116 channels\n"
     ]
    },
    {
     "name": "stderr",
     "output_type": "stream",
     "text": [
      "100%|██████████| Sample : 6902/6902 [00:05<00:00, 1177.23it/s]\n"
     ]
    },
    {
     "name": "stdout",
     "output_type": "stream",
     "text": [
      "α: 100000.0 Test score: 0.1007\n",
      "Fitted model alpha: 100000.0\n",
      "Sub 7 | Testing alpha=1.00e+06\n",
      "Opening raw data file ./ds005574-1.0.2/derivatives/ecogprep/sub-07/ieeg/sub-07_task-podcast_desc-highgamma_ieeg.fif...\n",
      "    Range : 0 ... 921599 =      0.000 ...  1799.998 secs\n",
      "Ready.\n",
      "Fitting 1 epochs, 116 channels\n"
     ]
    },
    {
     "name": "stderr",
     "output_type": "stream",
     "text": [
      "100%|██████████| Sample : 6902/6902 [00:05<00:00, 1160.22it/s]\n"
     ]
    },
    {
     "name": "stdout",
     "output_type": "stream",
     "text": [
      "α: 1000000.0 Test score: 0.1007\n",
      "Fitted model alpha: 1000000.0\n",
      "Sub 7 | Testing alpha=1.00e+07\n",
      "Opening raw data file ./ds005574-1.0.2/derivatives/ecogprep/sub-07/ieeg/sub-07_task-podcast_desc-highgamma_ieeg.fif...\n",
      "    Range : 0 ... 921599 =      0.000 ...  1799.998 secs\n",
      "Ready.\n",
      "Fitting 1 epochs, 116 channels\n"
     ]
    },
    {
     "name": "stderr",
     "output_type": "stream",
     "text": [
      "100%|██████████| Sample : 6902/6902 [00:05<00:00, 1155.46it/s]\n"
     ]
    },
    {
     "name": "stdout",
     "output_type": "stream",
     "text": [
      "α: 10000000.0 Test score: 0.1007\n",
      "Fitted model alpha: 10000000.0\n",
      "Sub 7 | Testing alpha=1.00e+08\n",
      "Opening raw data file ./ds005574-1.0.2/derivatives/ecogprep/sub-07/ieeg/sub-07_task-podcast_desc-highgamma_ieeg.fif...\n",
      "    Range : 0 ... 921599 =      0.000 ...  1799.998 secs\n",
      "Ready.\n",
      "Fitting 1 epochs, 116 channels\n"
     ]
    },
    {
     "name": "stderr",
     "output_type": "stream",
     "text": [
      "100%|██████████| Sample : 6902/6902 [00:05<00:00, 1158.40it/s]\n"
     ]
    },
    {
     "name": "stdout",
     "output_type": "stream",
     "text": [
      "α: 100000000.0 Test score: 0.1007\n",
      "Fitted model alpha: 100000000.0\n",
      "Sub 8 | Testing alpha=1.00e-01\n",
      "Opening raw data file ./ds005574-1.0.2/derivatives/ecogprep/sub-08/ieeg/sub-08_task-podcast_desc-highgamma_ieeg.fif...\n",
      "    Range : 0 ... 921599 =      0.000 ...  1799.998 secs\n",
      "Ready.\n",
      "Fitting 1 epochs, 72 channels\n"
     ]
    },
    {
     "name": "stderr",
     "output_type": "stream",
     "text": [
      "100%|██████████| Sample : 2700/2700 [00:02<00:00,  947.77it/s]\n"
     ]
    },
    {
     "name": "stdout",
     "output_type": "stream",
     "text": [
      "α: 0.1 Test score: 0.0291\n",
      "Fitted model alpha: 0.1\n",
      "Sub 8 | Testing alpha=1.00e+00\n",
      "Opening raw data file ./ds005574-1.0.2/derivatives/ecogprep/sub-08/ieeg/sub-08_task-podcast_desc-highgamma_ieeg.fif...\n",
      "    Range : 0 ... 921599 =      0.000 ...  1799.998 secs\n",
      "Ready.\n",
      "Fitting 1 epochs, 72 channels\n"
     ]
    },
    {
     "name": "stderr",
     "output_type": "stream",
     "text": [
      "100%|██████████| Sample : 2700/2700 [00:02<00:00,  950.27it/s]\n"
     ]
    },
    {
     "name": "stdout",
     "output_type": "stream",
     "text": [
      "α: 1.0 Test score: 0.0291\n",
      "Fitted model alpha: 1.0\n",
      "Sub 8 | Testing alpha=1.00e+01\n",
      "Opening raw data file ./ds005574-1.0.2/derivatives/ecogprep/sub-08/ieeg/sub-08_task-podcast_desc-highgamma_ieeg.fif...\n",
      "    Range : 0 ... 921599 =      0.000 ...  1799.998 secs\n",
      "Ready.\n",
      "Fitting 1 epochs, 72 channels\n"
     ]
    },
    {
     "name": "stderr",
     "output_type": "stream",
     "text": [
      "100%|██████████| Sample : 2700/2700 [00:02<00:00,  951.83it/s]\n"
     ]
    },
    {
     "name": "stdout",
     "output_type": "stream",
     "text": [
      "α: 10.0 Test score: 0.0291\n",
      "Fitted model alpha: 10.0\n",
      "Sub 8 | Testing alpha=1.00e+02\n",
      "Opening raw data file ./ds005574-1.0.2/derivatives/ecogprep/sub-08/ieeg/sub-08_task-podcast_desc-highgamma_ieeg.fif...\n",
      "    Range : 0 ... 921599 =      0.000 ...  1799.998 secs\n",
      "Ready.\n",
      "Fitting 1 epochs, 72 channels\n"
     ]
    },
    {
     "name": "stderr",
     "output_type": "stream",
     "text": [
      "100%|██████████| Sample : 2700/2700 [00:02<00:00,  955.60it/s]\n"
     ]
    },
    {
     "name": "stdout",
     "output_type": "stream",
     "text": [
      "α: 100.0 Test score: 0.0291\n",
      "Fitted model alpha: 100.0\n",
      "Sub 8 | Testing alpha=1.00e+03\n",
      "Opening raw data file ./ds005574-1.0.2/derivatives/ecogprep/sub-08/ieeg/sub-08_task-podcast_desc-highgamma_ieeg.fif...\n",
      "    Range : 0 ... 921599 =      0.000 ...  1799.998 secs\n",
      "Ready.\n",
      "Fitting 1 epochs, 72 channels\n"
     ]
    },
    {
     "name": "stderr",
     "output_type": "stream",
     "text": [
      "100%|██████████| Sample : 2700/2700 [00:02<00:00,  949.72it/s]\n"
     ]
    },
    {
     "name": "stdout",
     "output_type": "stream",
     "text": [
      "α: 1000.0 Test score: 0.0291\n",
      "Fitted model alpha: 1000.0\n",
      "Sub 8 | Testing alpha=1.00e+04\n",
      "Opening raw data file ./ds005574-1.0.2/derivatives/ecogprep/sub-08/ieeg/sub-08_task-podcast_desc-highgamma_ieeg.fif...\n",
      "    Range : 0 ... 921599 =      0.000 ...  1799.998 secs\n",
      "Ready.\n",
      "Fitting 1 epochs, 72 channels\n"
     ]
    },
    {
     "name": "stderr",
     "output_type": "stream",
     "text": [
      "100%|██████████| Sample : 2700/2700 [00:02<00:00,  952.16it/s]\n"
     ]
    },
    {
     "name": "stdout",
     "output_type": "stream",
     "text": [
      "α: 10000.0 Test score: 0.0291\n",
      "Fitted model alpha: 10000.0\n",
      "Sub 8 | Testing alpha=1.00e+05\n",
      "Opening raw data file ./ds005574-1.0.2/derivatives/ecogprep/sub-08/ieeg/sub-08_task-podcast_desc-highgamma_ieeg.fif...\n",
      "    Range : 0 ... 921599 =      0.000 ...  1799.998 secs\n",
      "Ready.\n",
      "Fitting 1 epochs, 72 channels\n"
     ]
    },
    {
     "name": "stderr",
     "output_type": "stream",
     "text": [
      "100%|██████████| Sample : 2700/2700 [00:02<00:00,  949.78it/s]\n"
     ]
    },
    {
     "name": "stdout",
     "output_type": "stream",
     "text": [
      "α: 100000.0 Test score: 0.0291\n",
      "Fitted model alpha: 100000.0\n",
      "Sub 8 | Testing alpha=1.00e+06\n",
      "Opening raw data file ./ds005574-1.0.2/derivatives/ecogprep/sub-08/ieeg/sub-08_task-podcast_desc-highgamma_ieeg.fif...\n",
      "    Range : 0 ... 921599 =      0.000 ...  1799.998 secs\n",
      "Ready.\n",
      "Fitting 1 epochs, 72 channels\n"
     ]
    },
    {
     "name": "stderr",
     "output_type": "stream",
     "text": [
      "100%|██████████| Sample : 2700/2700 [00:02<00:00,  944.49it/s]\n"
     ]
    },
    {
     "name": "stdout",
     "output_type": "stream",
     "text": [
      "α: 1000000.0 Test score: 0.0291\n",
      "Fitted model alpha: 1000000.0\n",
      "Sub 8 | Testing alpha=1.00e+07\n",
      "Opening raw data file ./ds005574-1.0.2/derivatives/ecogprep/sub-08/ieeg/sub-08_task-podcast_desc-highgamma_ieeg.fif...\n",
      "    Range : 0 ... 921599 =      0.000 ...  1799.998 secs\n",
      "Ready.\n",
      "Fitting 1 epochs, 72 channels\n"
     ]
    },
    {
     "name": "stderr",
     "output_type": "stream",
     "text": [
      "100%|██████████| Sample : 2700/2700 [00:02<00:00,  952.86it/s]\n"
     ]
    },
    {
     "name": "stdout",
     "output_type": "stream",
     "text": [
      "α: 10000000.0 Test score: 0.0291\n",
      "Fitted model alpha: 10000000.0\n",
      "Sub 8 | Testing alpha=1.00e+08\n",
      "Opening raw data file ./ds005574-1.0.2/derivatives/ecogprep/sub-08/ieeg/sub-08_task-podcast_desc-highgamma_ieeg.fif...\n",
      "    Range : 0 ... 921599 =      0.000 ...  1799.998 secs\n",
      "Ready.\n",
      "Fitting 1 epochs, 72 channels\n"
     ]
    },
    {
     "name": "stderr",
     "output_type": "stream",
     "text": [
      "100%|██████████| Sample : 2700/2700 [00:02<00:00,  949.93it/s]\n"
     ]
    },
    {
     "name": "stdout",
     "output_type": "stream",
     "text": [
      "α: 100000000.0 Test score: 0.0291\n",
      "Fitted model alpha: 100000000.0\n",
      "Sub 9 | Testing alpha=1.00e-01\n",
      "Opening raw data file ./ds005574-1.0.2/derivatives/ecogprep/sub-09/ieeg/sub-09_task-podcast_desc-highgamma_ieeg.fif...\n",
      "    Range : 0 ... 921599 =      0.000 ...  1799.998 secs\n",
      "Ready.\n",
      "Fitting 1 epochs, 188 channels\n"
     ]
    },
    {
     "name": "stderr",
     "output_type": "stream",
     "text": [
      "100%|██████████| Sample : 17954/17954 [00:13<00:00, 1287.26it/s]\n"
     ]
    },
    {
     "name": "stdout",
     "output_type": "stream",
     "text": [
      "α: 0.1 Test score: 0.0714\n",
      "Fitted model alpha: 0.1\n",
      "Sub 9 | Testing alpha=1.00e+00\n",
      "Opening raw data file ./ds005574-1.0.2/derivatives/ecogprep/sub-09/ieeg/sub-09_task-podcast_desc-highgamma_ieeg.fif...\n",
      "    Range : 0 ... 921599 =      0.000 ...  1799.998 secs\n",
      "Ready.\n",
      "Fitting 1 epochs, 188 channels\n"
     ]
    },
    {
     "name": "stderr",
     "output_type": "stream",
     "text": [
      "100%|██████████| Sample : 17954/17954 [00:13<00:00, 1309.77it/s]\n"
     ]
    },
    {
     "name": "stdout",
     "output_type": "stream",
     "text": [
      "α: 1.0 Test score: 0.0714\n",
      "Fitted model alpha: 1.0\n",
      "Sub 9 | Testing alpha=1.00e+01\n",
      "Opening raw data file ./ds005574-1.0.2/derivatives/ecogprep/sub-09/ieeg/sub-09_task-podcast_desc-highgamma_ieeg.fif...\n",
      "    Range : 0 ... 921599 =      0.000 ...  1799.998 secs\n",
      "Ready.\n",
      "Fitting 1 epochs, 188 channels\n"
     ]
    },
    {
     "name": "stderr",
     "output_type": "stream",
     "text": [
      "100%|██████████| Sample : 17954/17954 [00:13<00:00, 1342.86it/s]\n"
     ]
    },
    {
     "name": "stdout",
     "output_type": "stream",
     "text": [
      "α: 10.0 Test score: 0.0714\n",
      "Fitted model alpha: 10.0\n",
      "Sub 9 | Testing alpha=1.00e+02\n",
      "Opening raw data file ./ds005574-1.0.2/derivatives/ecogprep/sub-09/ieeg/sub-09_task-podcast_desc-highgamma_ieeg.fif...\n",
      "    Range : 0 ... 921599 =      0.000 ...  1799.998 secs\n",
      "Ready.\n",
      "Fitting 1 epochs, 188 channels\n"
     ]
    },
    {
     "name": "stderr",
     "output_type": "stream",
     "text": [
      "100%|██████████| Sample : 17954/17954 [00:13<00:00, 1346.77it/s]\n"
     ]
    },
    {
     "name": "stdout",
     "output_type": "stream",
     "text": [
      "α: 100.0 Test score: 0.0714\n",
      "Fitted model alpha: 100.0\n",
      "Sub 9 | Testing alpha=1.00e+03\n",
      "Opening raw data file ./ds005574-1.0.2/derivatives/ecogprep/sub-09/ieeg/sub-09_task-podcast_desc-highgamma_ieeg.fif...\n",
      "    Range : 0 ... 921599 =      0.000 ...  1799.998 secs\n",
      "Ready.\n",
      "Fitting 1 epochs, 188 channels\n"
     ]
    },
    {
     "name": "stderr",
     "output_type": "stream",
     "text": [
      "100%|██████████| Sample : 17954/17954 [00:13<00:00, 1294.24it/s]\n"
     ]
    },
    {
     "name": "stdout",
     "output_type": "stream",
     "text": [
      "α: 1000.0 Test score: 0.0714\n",
      "Fitted model alpha: 1000.0\n",
      "Sub 9 | Testing alpha=1.00e+04\n",
      "Opening raw data file ./ds005574-1.0.2/derivatives/ecogprep/sub-09/ieeg/sub-09_task-podcast_desc-highgamma_ieeg.fif...\n",
      "    Range : 0 ... 921599 =      0.000 ...  1799.998 secs\n",
      "Ready.\n",
      "Fitting 1 epochs, 188 channels\n"
     ]
    },
    {
     "name": "stderr",
     "output_type": "stream",
     "text": [
      "100%|██████████| Sample : 17954/17954 [00:11<00:00, 1511.64it/s]\n"
     ]
    },
    {
     "name": "stdout",
     "output_type": "stream",
     "text": [
      "α: 10000.0 Test score: 0.0714\n",
      "Fitted model alpha: 10000.0\n",
      "Sub 9 | Testing alpha=1.00e+05\n",
      "Opening raw data file ./ds005574-1.0.2/derivatives/ecogprep/sub-09/ieeg/sub-09_task-podcast_desc-highgamma_ieeg.fif...\n",
      "    Range : 0 ... 921599 =      0.000 ...  1799.998 secs\n",
      "Ready.\n",
      "Fitting 1 epochs, 188 channels\n"
     ]
    },
    {
     "name": "stderr",
     "output_type": "stream",
     "text": [
      "100%|██████████| Sample : 17954/17954 [00:13<00:00, 1373.59it/s]\n"
     ]
    },
    {
     "name": "stdout",
     "output_type": "stream",
     "text": [
      "α: 100000.0 Test score: 0.0714\n",
      "Fitted model alpha: 100000.0\n",
      "Sub 9 | Testing alpha=1.00e+06\n",
      "Opening raw data file ./ds005574-1.0.2/derivatives/ecogprep/sub-09/ieeg/sub-09_task-podcast_desc-highgamma_ieeg.fif...\n",
      "    Range : 0 ... 921599 =      0.000 ...  1799.998 secs\n",
      "Ready.\n",
      "Fitting 1 epochs, 188 channels\n"
     ]
    },
    {
     "name": "stderr",
     "output_type": "stream",
     "text": [
      "100%|██████████| Sample : 17954/17954 [00:12<00:00, 1408.03it/s]\n"
     ]
    },
    {
     "name": "stdout",
     "output_type": "stream",
     "text": [
      "α: 1000000.0 Test score: 0.0714\n",
      "Fitted model alpha: 1000000.0\n",
      "Sub 9 | Testing alpha=1.00e+07\n",
      "Opening raw data file ./ds005574-1.0.2/derivatives/ecogprep/sub-09/ieeg/sub-09_task-podcast_desc-highgamma_ieeg.fif...\n",
      "    Range : 0 ... 921599 =      0.000 ...  1799.998 secs\n",
      "Ready.\n",
      "Fitting 1 epochs, 188 channels\n"
     ]
    },
    {
     "name": "stderr",
     "output_type": "stream",
     "text": [
      "100%|██████████| Sample : 17954/17954 [00:13<00:00, 1309.32it/s]\n"
     ]
    },
    {
     "name": "stdout",
     "output_type": "stream",
     "text": [
      "α: 10000000.0 Test score: 0.0714\n",
      "Fitted model alpha: 10000000.0\n",
      "Sub 9 | Testing alpha=1.00e+08\n",
      "Opening raw data file ./ds005574-1.0.2/derivatives/ecogprep/sub-09/ieeg/sub-09_task-podcast_desc-highgamma_ieeg.fif...\n",
      "    Range : 0 ... 921599 =      0.000 ...  1799.998 secs\n",
      "Ready.\n",
      "Fitting 1 epochs, 188 channels\n"
     ]
    },
    {
     "name": "stderr",
     "output_type": "stream",
     "text": [
      "100%|██████████| Sample : 17954/17954 [00:12<00:00, 1424.59it/s]\n"
     ]
    },
    {
     "name": "stdout",
     "output_type": "stream",
     "text": [
      "α: 100000000.0 Test score: 0.0714\n",
      "Fitted model alpha: 100000000.0\n"
     ]
    }
   ],
   "source": [
    "# a preliminary search was conducted over one patient, and found that\n",
    "# an alpha value in this range was best\n",
    "alphas = np.logspace(np.log10(0.1), np.log10(1e8), num=10)\n",
    "n_alphas = len(alphas)\n",
    "sub_nums = range(1, 10)  # sub_num 1 to 9\n",
    "scores_matrix = np.zeros((len(sub_nums), n_alphas))\n",
    "\n",
    "# Run all combinations\n",
    "for subj_idx, sub_num in enumerate(sub_nums):\n",
    "    for alpha_idx, alpha in enumerate(alphas):\n",
    "        print(f\"Sub {sub_num} | Testing alpha={alpha:.2e}\")\n",
    "        # HEAVILY REDUCED SETUP\n",
    "        model, dataset, score = run_pipeline(\n",
    "            sub_num=sub_num,\n",
    "            hidden_states=HIDDEN_STATES,\n",
    "            train_ratio=0.2,\n",
    "            test_ratio=1/8,\n",
    "            tmin = -0.2,\n",
    "            tmax = 0.2,\n",
    "            sfreq=50,  # downsampled for efficiency\n",
    "            alpha=alpha\n",
    "        )\n",
    "        scores_matrix[subj_idx, alpha_idx] = score\n",
    "        del model, dataset\n",
    "\n",
    "# Save scores for later use\n",
    "np.save(\"scores_matrix.npy\", scores_matrix)\n",
    "np.save(\"alphas.npy\", alphas)"
   ]
  },
  {
   "cell_type": "code",
   "execution_count": 5,
   "id": "0bd6dcfb",
   "metadata": {},
   "outputs": [
    {
     "data": {
      "image/png": "[encoded data removed]",
      "text/plain": [
       "<Figure size 1000x600 with 1 Axes>"
      ]
     },
     "metadata": {},
     "output_type": "display_data"
    }
   ],
   "source": [
    "scores_matrix = np.load('scores_matrix.npy')\n",
    "mean_scores = np.mean(scores_matrix, axis=0)\n",
    "std_scores = np.std(scores_matrix, axis=0)\n",
    "\n",
    "alphas = np.logspace(np.log10(0.1), np.log10(1e8), num=10)\n",
    "plt.figure(figsize=(10, 6))\n",
    "log_alphas = np.log10(alphas)\n",
    "\n",
    "# Plot all subject lines\n",
    "for i, subject_scores in enumerate(scores_matrix):\n",
    "    if i != 0:\n",
    "        continue\n",
    "    plt.plot(log_alphas, subject_scores, color='blue', linewidth=1, alpha=1)\n",
    "\n",
    "# Plot mean ± std band\n",
    "plt.fill_between(log_alphas, mean_scores - std_scores, mean_scores + std_scores,\n",
    "                 color='gray', alpha=0.3, label='±1 std dev')\n",
    "\n",
    "# Plot mean line\n",
    "plt.plot(log_alphas, mean_scores, color='crimson', linewidth=2.0, label='Mean score')\n",
    "\n",
    "plt.xlabel('log10(alpha)', fontsize=13)\n",
    "plt.ylabel('Test Score (mean corrcoef)', fontsize=13)\n",
    "plt.title('TRF Ridge Regularization Sweep (Across Subjects)', fontsize=15)\n",
    "plt.grid(True, linestyle='--', alpha=0.6)\n",
    "plt.legend(fontsize=11)\n",
    "plt.tight_layout()\n",
    "plt.show()\n"
   ]
  },
  {
   "cell_type": "code",
   "execution_count": null,
   "id": "fe98c5f4",
   "metadata": {},
   "outputs": [],
   "source": []
  }
 ],
 "metadata": {
  "kernelspec": {
   "display_name": "base",
   "language": "python",
   "name": "python3"
  },
  "language_info": {
   "codemirror_mode": {
    "name": "ipython",
    "version": 3
   },
   "file_extension": ".py",
   "mimetype": "text/x-python",
   "name": "python",
   "nbconvert_exporter": "python",
   "pygments_lexer": "ipython3",
   "version": "3.13.5"
  }
 },
 "nbformat": 4,
 "nbformat_minor": 5
}
